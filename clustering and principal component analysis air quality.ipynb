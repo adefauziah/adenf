{
 "cells": [
  {
   "cell_type": "code",
   "execution_count": 1,
   "metadata": {},
   "outputs": [],
   "source": [
    "import numpy as np\n",
    "import pandas as pd\n",
    "import matplotlib.pyplot as plt\n",
    "%matplotlib inline\n",
    "from pandas import DataFrame\n",
    "from sklearn.cluster import KMeans\n",
    "import seaborn as sns"
   ]
  },
  {
   "cell_type": "code",
   "execution_count": 2,
   "metadata": {
    "scrolled": true
   },
   "outputs": [
    {
     "data": {
      "text/html": [
       "<div>\n",
       "<style scoped>\n",
       "    .dataframe tbody tr th:only-of-type {\n",
       "        vertical-align: middle;\n",
       "    }\n",
       "\n",
       "    .dataframe tbody tr th {\n",
       "        vertical-align: top;\n",
       "    }\n",
       "\n",
       "    .dataframe thead th {\n",
       "        text-align: right;\n",
       "    }\n",
       "</style>\n",
       "<table border=\"1\" class=\"dataframe\">\n",
       "  <thead>\n",
       "    <tr style=\"text-align: right;\">\n",
       "      <th></th>\n",
       "      <th>Date</th>\n",
       "      <th>Time</th>\n",
       "      <th>CO_GT</th>\n",
       "      <th>PT08_S1_CO</th>\n",
       "      <th>NMHC_GT</th>\n",
       "      <th>C6H6_GT</th>\n",
       "      <th>PT08_S2_NMHC</th>\n",
       "      <th>Nox_GT</th>\n",
       "      <th>PT08_S3_Nox</th>\n",
       "      <th>NO2_GT</th>\n",
       "      <th>PT08_S4_NO2</th>\n",
       "      <th>PT08_S5_O3</th>\n",
       "      <th>T</th>\n",
       "      <th>RH</th>\n",
       "      <th>AH</th>\n",
       "      <th>CO_level</th>\n",
       "    </tr>\n",
       "  </thead>\n",
       "  <tbody>\n",
       "    <tr>\n",
       "      <td>0</td>\n",
       "      <td>11/23/2004</td>\n",
       "      <td>19:00:00</td>\n",
       "      <td>11.9</td>\n",
       "      <td>2008</td>\n",
       "      <td>-200</td>\n",
       "      <td>50.6</td>\n",
       "      <td>1980</td>\n",
       "      <td>1389</td>\n",
       "      <td>325</td>\n",
       "      <td>220</td>\n",
       "      <td>2562</td>\n",
       "      <td>2342</td>\n",
       "      <td>12.4</td>\n",
       "      <td>74.7</td>\n",
       "      <td>1.0741</td>\n",
       "      <td>Very High</td>\n",
       "    </tr>\n",
       "    <tr>\n",
       "      <td>1</td>\n",
       "      <td>11/23/2004</td>\n",
       "      <td>20:00:00</td>\n",
       "      <td>11.5</td>\n",
       "      <td>1918</td>\n",
       "      <td>-200</td>\n",
       "      <td>49.4</td>\n",
       "      <td>1958</td>\n",
       "      <td>1358</td>\n",
       "      <td>335</td>\n",
       "      <td>190</td>\n",
       "      <td>2477</td>\n",
       "      <td>2237</td>\n",
       "      <td>11.5</td>\n",
       "      <td>76.2</td>\n",
       "      <td>1.0324</td>\n",
       "      <td>Very High</td>\n",
       "    </tr>\n",
       "    <tr>\n",
       "      <td>2</td>\n",
       "      <td>11/17/2004</td>\n",
       "      <td>18:00:00</td>\n",
       "      <td>10.2</td>\n",
       "      <td>1802</td>\n",
       "      <td>-200</td>\n",
       "      <td>47.7</td>\n",
       "      <td>1924</td>\n",
       "      <td>748</td>\n",
       "      <td>356</td>\n",
       "      <td>192</td>\n",
       "      <td>2235</td>\n",
       "      <td>2452</td>\n",
       "      <td>13.7</td>\n",
       "      <td>52.8</td>\n",
       "      <td>0.8244</td>\n",
       "      <td>Very High</td>\n",
       "    </tr>\n",
       "    <tr>\n",
       "      <td>3</td>\n",
       "      <td>11/23/2004</td>\n",
       "      <td>18:00:00</td>\n",
       "      <td>10.2</td>\n",
       "      <td>1982</td>\n",
       "      <td>-200</td>\n",
       "      <td>49.5</td>\n",
       "      <td>1959</td>\n",
       "      <td>1369</td>\n",
       "      <td>322</td>\n",
       "      <td>227</td>\n",
       "      <td>2536</td>\n",
       "      <td>2386</td>\n",
       "      <td>13.2</td>\n",
       "      <td>72.6</td>\n",
       "      <td>1.0936</td>\n",
       "      <td>Very High</td>\n",
       "    </tr>\n",
       "    <tr>\n",
       "      <td>4</td>\n",
       "      <td>11/26/2004</td>\n",
       "      <td>18:00:00</td>\n",
       "      <td>10.1</td>\n",
       "      <td>1956</td>\n",
       "      <td>-200</td>\n",
       "      <td>45.2</td>\n",
       "      <td>1877</td>\n",
       "      <td>1389</td>\n",
       "      <td>347</td>\n",
       "      <td>255</td>\n",
       "      <td>2338</td>\n",
       "      <td>2465</td>\n",
       "      <td>15.5</td>\n",
       "      <td>62.8</td>\n",
       "      <td>1.0979</td>\n",
       "      <td>Very High</td>\n",
       "    </tr>\n",
       "    <tr>\n",
       "      <td>...</td>\n",
       "      <td>...</td>\n",
       "      <td>...</td>\n",
       "      <td>...</td>\n",
       "      <td>...</td>\n",
       "      <td>...</td>\n",
       "      <td>...</td>\n",
       "      <td>...</td>\n",
       "      <td>...</td>\n",
       "      <td>...</td>\n",
       "      <td>...</td>\n",
       "      <td>...</td>\n",
       "      <td>...</td>\n",
       "      <td>...</td>\n",
       "      <td>...</td>\n",
       "      <td>...</td>\n",
       "      <td>...</td>\n",
       "    </tr>\n",
       "    <tr>\n",
       "      <td>9352</td>\n",
       "      <td>3/23/2005</td>\n",
       "      <td>04:00:00</td>\n",
       "      <td>-200.0</td>\n",
       "      <td>993</td>\n",
       "      <td>-200</td>\n",
       "      <td>2.3</td>\n",
       "      <td>604</td>\n",
       "      <td>85</td>\n",
       "      <td>848</td>\n",
       "      <td>65</td>\n",
       "      <td>1160</td>\n",
       "      <td>762</td>\n",
       "      <td>14.5</td>\n",
       "      <td>66.4</td>\n",
       "      <td>1.0919</td>\n",
       "      <td>Very low</td>\n",
       "    </tr>\n",
       "    <tr>\n",
       "      <td>9353</td>\n",
       "      <td>3/26/2005</td>\n",
       "      <td>04:00:00</td>\n",
       "      <td>-200.0</td>\n",
       "      <td>1122</td>\n",
       "      <td>-200</td>\n",
       "      <td>6.0</td>\n",
       "      <td>811</td>\n",
       "      <td>181</td>\n",
       "      <td>641</td>\n",
       "      <td>92</td>\n",
       "      <td>1336</td>\n",
       "      <td>1122</td>\n",
       "      <td>16.2</td>\n",
       "      <td>71.2</td>\n",
       "      <td>1.3013</td>\n",
       "      <td>Very low</td>\n",
       "    </tr>\n",
       "    <tr>\n",
       "      <td>9354</td>\n",
       "      <td>3/29/2005</td>\n",
       "      <td>04:00:00</td>\n",
       "      <td>-200.0</td>\n",
       "      <td>883</td>\n",
       "      <td>-200</td>\n",
       "      <td>1.3</td>\n",
       "      <td>530</td>\n",
       "      <td>63</td>\n",
       "      <td>997</td>\n",
       "      <td>46</td>\n",
       "      <td>1102</td>\n",
       "      <td>617</td>\n",
       "      <td>13.7</td>\n",
       "      <td>68.2</td>\n",
       "      <td>1.0611</td>\n",
       "      <td>Very low</td>\n",
       "    </tr>\n",
       "    <tr>\n",
       "      <td>9355</td>\n",
       "      <td>04/01/2005</td>\n",
       "      <td>04:00:00</td>\n",
       "      <td>-200.0</td>\n",
       "      <td>818</td>\n",
       "      <td>-200</td>\n",
       "      <td>0.8</td>\n",
       "      <td>473</td>\n",
       "      <td>47</td>\n",
       "      <td>1257</td>\n",
       "      <td>41</td>\n",
       "      <td>898</td>\n",
       "      <td>323</td>\n",
       "      <td>13.7</td>\n",
       "      <td>48.8</td>\n",
       "      <td>0.7606</td>\n",
       "      <td>Very low</td>\n",
       "    </tr>\n",
       "    <tr>\n",
       "      <td>9356</td>\n",
       "      <td>04/04/2005</td>\n",
       "      <td>04:00:00</td>\n",
       "      <td>-200.0</td>\n",
       "      <td>864</td>\n",
       "      <td>-200</td>\n",
       "      <td>0.8</td>\n",
       "      <td>478</td>\n",
       "      <td>52</td>\n",
       "      <td>1116</td>\n",
       "      <td>43</td>\n",
       "      <td>958</td>\n",
       "      <td>489</td>\n",
       "      <td>11.8</td>\n",
       "      <td>56.0</td>\n",
       "      <td>0.7743</td>\n",
       "      <td>Very low</td>\n",
       "    </tr>\n",
       "  </tbody>\n",
       "</table>\n",
       "<p>9357 rows × 16 columns</p>\n",
       "</div>"
      ],
      "text/plain": [
       "            Date      Time  CO_GT  PT08_S1_CO  NMHC_GT  C6H6_GT  PT08_S2_NMHC  \\\n",
       "0     11/23/2004  19:00:00   11.9        2008     -200     50.6          1980   \n",
       "1     11/23/2004  20:00:00   11.5        1918     -200     49.4          1958   \n",
       "2     11/17/2004  18:00:00   10.2        1802     -200     47.7          1924   \n",
       "3     11/23/2004  18:00:00   10.2        1982     -200     49.5          1959   \n",
       "4     11/26/2004  18:00:00   10.1        1956     -200     45.2          1877   \n",
       "...          ...       ...    ...         ...      ...      ...           ...   \n",
       "9352   3/23/2005  04:00:00 -200.0         993     -200      2.3           604   \n",
       "9353   3/26/2005  04:00:00 -200.0        1122     -200      6.0           811   \n",
       "9354   3/29/2005  04:00:00 -200.0         883     -200      1.3           530   \n",
       "9355  04/01/2005  04:00:00 -200.0         818     -200      0.8           473   \n",
       "9356  04/04/2005  04:00:00 -200.0         864     -200      0.8           478   \n",
       "\n",
       "      Nox_GT  PT08_S3_Nox  NO2_GT  PT08_S4_NO2  PT08_S5_O3     T    RH  \\\n",
       "0       1389          325     220         2562        2342  12.4  74.7   \n",
       "1       1358          335     190         2477        2237  11.5  76.2   \n",
       "2        748          356     192         2235        2452  13.7  52.8   \n",
       "3       1369          322     227         2536        2386  13.2  72.6   \n",
       "4       1389          347     255         2338        2465  15.5  62.8   \n",
       "...      ...          ...     ...          ...         ...   ...   ...   \n",
       "9352      85          848      65         1160         762  14.5  66.4   \n",
       "9353     181          641      92         1336        1122  16.2  71.2   \n",
       "9354      63          997      46         1102         617  13.7  68.2   \n",
       "9355      47         1257      41          898         323  13.7  48.8   \n",
       "9356      52         1116      43          958         489  11.8  56.0   \n",
       "\n",
       "          AH   CO_level  \n",
       "0     1.0741  Very High  \n",
       "1     1.0324  Very High  \n",
       "2     0.8244  Very High  \n",
       "3     1.0936  Very High  \n",
       "4     1.0979  Very High  \n",
       "...      ...        ...  \n",
       "9352  1.0919   Very low  \n",
       "9353  1.3013   Very low  \n",
       "9354  1.0611   Very low  \n",
       "9355  0.7606   Very low  \n",
       "9356  0.7743   Very low  \n",
       "\n",
       "[9357 rows x 16 columns]"
      ]
     },
     "execution_count": 2,
     "metadata": {},
     "output_type": "execute_result"
    }
   ],
   "source": [
    "data=pd.read_csv(\"F:/AirQualityUCI.csv\",sep=\";\") #read data\n",
    "data"
   ]
  },
  {
   "cell_type": "raw",
   "metadata": {},
   "source": [
    "Mengganti nilai -200 dengan Nan karena tidak mungkin ada nilai -200"
   ]
  },
  {
   "cell_type": "code",
   "execution_count": 3,
   "metadata": {},
   "outputs": [],
   "source": [
    "data.replace(to_replace=-200, value= np.NaN, inplace= True)"
   ]
  },
  {
   "cell_type": "code",
   "execution_count": 4,
   "metadata": {},
   "outputs": [
    {
     "name": "stdout",
     "output_type": "stream",
     "text": [
      "<class 'pandas.core.frame.DataFrame'>\n",
      "RangeIndex: 9357 entries, 0 to 9356\n",
      "Data columns (total 16 columns):\n",
      "Date            9357 non-null object\n",
      "Time            9357 non-null object\n",
      "CO_GT           7674 non-null float64\n",
      "PT08_S1_CO      8991 non-null float64\n",
      "NMHC_GT         914 non-null float64\n",
      "C6H6_GT         8991 non-null float64\n",
      "PT08_S2_NMHC    8991 non-null float64\n",
      "Nox_GT          7718 non-null float64\n",
      "PT08_S3_Nox     8991 non-null float64\n",
      "NO2_GT          7715 non-null float64\n",
      "PT08_S4_NO2     8991 non-null float64\n",
      "PT08_S5_O3      8991 non-null float64\n",
      "T               8991 non-null float64\n",
      "RH              8991 non-null float64\n",
      "AH              8991 non-null float64\n",
      "CO_level        9357 non-null object\n",
      "dtypes: float64(13), object(3)\n",
      "memory usage: 1.1+ MB\n"
     ]
    }
   ],
   "source": [
    "data.info()"
   ]
  },
  {
   "cell_type": "code",
   "execution_count": 5,
   "metadata": {
    "scrolled": true
   },
   "outputs": [
    {
     "data": {
      "text/plain": [
       "Date               0\n",
       "Time               0\n",
       "CO_GT           1683\n",
       "PT08_S1_CO       366\n",
       "NMHC_GT         8443\n",
       "C6H6_GT          366\n",
       "PT08_S2_NMHC     366\n",
       "Nox_GT          1639\n",
       "PT08_S3_Nox      366\n",
       "NO2_GT          1642\n",
       "PT08_S4_NO2      366\n",
       "PT08_S5_O3       366\n",
       "T                366\n",
       "RH               366\n",
       "AH               366\n",
       "CO_level           0\n",
       "dtype: int64"
      ]
     },
     "execution_count": 5,
     "metadata": {},
     "output_type": "execute_result"
    }
   ],
   "source": [
    "data.isnull().sum()"
   ]
  },
  {
   "cell_type": "raw",
   "metadata": {},
   "source": [
    "Menggabung hari dan jam"
   ]
  },
  {
   "cell_type": "code",
   "execution_count": 6,
   "metadata": {},
   "outputs": [],
   "source": [
    "data['DateTime'] = data['Date']+ ' ' + data['Time']"
   ]
  },
  {
   "cell_type": "code",
   "execution_count": 7,
   "metadata": {},
   "outputs": [],
   "source": [
    "data.drop(['Time'], axis=1, inplace=True)"
   ]
  },
  {
   "cell_type": "code",
   "execution_count": 8,
   "metadata": {},
   "outputs": [],
   "source": [
    "data['DateTime'] = pd.to_datetime(data['DateTime'].astype(str), format='%m/%d/%Y %H:%M:%S')"
   ]
  },
  {
   "cell_type": "code",
   "execution_count": 9,
   "metadata": {},
   "outputs": [],
   "source": [
    "data['Date'] = pd.to_datetime(data['Date'].astype(str), format='%m/%d/%Y')"
   ]
  },
  {
   "cell_type": "code",
   "execution_count": 10,
   "metadata": {},
   "outputs": [],
   "source": [
    "from datetime import date"
   ]
  },
  {
   "cell_type": "code",
   "execution_count": 11,
   "metadata": {},
   "outputs": [],
   "source": [
    "data['Year'] = data['DateTime'].map(lambda x:x.year)"
   ]
  },
  {
   "cell_type": "code",
   "execution_count": 12,
   "metadata": {},
   "outputs": [],
   "source": [
    "data['YearMonth'] = pd.to_datetime(data.DateTime).dt.to_period('m') #mengubah dalam bentuk bulan dan tahun agar lebih mudah divisualisasi"
   ]
  },
  {
   "cell_type": "markdown",
   "metadata": {},
   "source": [
    "terlalu banyak missing value pada variabel NMHC sehingga didrop"
   ]
  },
  {
   "cell_type": "code",
   "execution_count": 13,
   "metadata": {},
   "outputs": [],
   "source": [
    "data.drop(['NMHC_GT'], axis= 1, inplace= True)"
   ]
  },
  {
   "cell_type": "raw",
   "metadata": {},
   "source": [
    "We can try to replace these NaN values by taking the mean or the median of the whole column, but this won't be accurate and proper way to fill those values. Thus, filling the mean of that perticular day in which day the value is NaN makes more sense and would be proper way to impute the values. Hence, we groupby the date and take the mean and replace any NaN value by the mean of the values of that day."
   ]
  },
  {
   "cell_type": "code",
   "execution_count": 14,
   "metadata": {},
   "outputs": [],
   "source": [
    "data[\"CO_GT\"] = data.groupby(\"Date\")[\"CO_GT\"].transform(lambda x: x.fillna(x.median()))\n",
    "data[\"PT08_S1_CO\"] = data.groupby(\"Date\")[\"PT08_S1_CO\"].transform(lambda x: x.fillna(x.median()))\n",
    "data[\"C6H6_GT\"] = data.groupby(\"Date\")[\"C6H6_GT\"].transform(lambda x: x.fillna(x.median()))\n",
    "data[\"PT08_S2_NMHC\"] = data.groupby(\"Date\")[\"PT08_S2_NMHC\"].transform(lambda x: x.fillna(x.median()))\n",
    "data[\"Nox_GT\"] = data.groupby(\"Date\")[\"CO_GT\"].transform(lambda x: x.fillna(x.median()))\n",
    "data[\"PT08_S3_Nox\"] = data.groupby(\"Date\")[\"PT08_S3_Nox\"].transform(lambda x: x.fillna(x.median()))\n",
    "data[\"NO2_GT\"] = data.groupby(\"Date\")[\"NO2_GT\"].transform(lambda x: x.fillna(x.median()))\n",
    "data[\"PT08_S4_NO2\"] = data.groupby(\"Date\")[\"PT08_S4_NO2\"].transform(lambda x: x.fillna(x.median()))\n",
    "data[\"PT08_S5_O3\"] = data.groupby(\"Date\")[\"PT08_S5_O3\"].transform(lambda x: x.fillna(x.median()))\n",
    "data[\"T\"] = data.groupby(\"Date\")[\"T\"].transform(lambda x: x.fillna(x.median()))\n",
    "data[\"RH\"] = data.groupby(\"Date\")[\"RH\"].transform(lambda x: x.fillna(x.median()))\n",
    "data[\"AH\"] = data.groupby(\"Date\")[\"AH\"].transform(lambda x: x.fillna(x.median()))"
   ]
  },
  {
   "cell_type": "code",
   "execution_count": 15,
   "metadata": {},
   "outputs": [],
   "source": [
    "data.fillna(method='ffill', inplace= True)"
   ]
  },
  {
   "cell_type": "code",
   "execution_count": 16,
   "metadata": {
    "scrolled": true
   },
   "outputs": [
    {
     "data": {
      "text/plain": [
       "Date            0\n",
       "CO_GT           0\n",
       "PT08_S1_CO      0\n",
       "C6H6_GT         0\n",
       "PT08_S2_NMHC    0\n",
       "Nox_GT          0\n",
       "PT08_S3_Nox     0\n",
       "NO2_GT          0\n",
       "PT08_S4_NO2     0\n",
       "PT08_S5_O3      0\n",
       "T               0\n",
       "RH              0\n",
       "AH              0\n",
       "CO_level        0\n",
       "DateTime        0\n",
       "Year            0\n",
       "YearMonth       0\n",
       "dtype: int64"
      ]
     },
     "execution_count": 16,
     "metadata": {},
     "output_type": "execute_result"
    }
   ],
   "source": [
    "data.isnull().sum()"
   ]
  },
  {
   "cell_type": "code",
   "execution_count": 17,
   "metadata": {},
   "outputs": [
    {
     "data": {
      "text/html": [
       "<div>\n",
       "<style scoped>\n",
       "    .dataframe tbody tr th:only-of-type {\n",
       "        vertical-align: middle;\n",
       "    }\n",
       "\n",
       "    .dataframe tbody tr th {\n",
       "        vertical-align: top;\n",
       "    }\n",
       "\n",
       "    .dataframe thead th {\n",
       "        text-align: right;\n",
       "    }\n",
       "</style>\n",
       "<table border=\"1\" class=\"dataframe\">\n",
       "  <thead>\n",
       "    <tr style=\"text-align: right;\">\n",
       "      <th></th>\n",
       "      <th>Date</th>\n",
       "      <th>CO_GT</th>\n",
       "      <th>PT08_S1_CO</th>\n",
       "      <th>C6H6_GT</th>\n",
       "      <th>PT08_S2_NMHC</th>\n",
       "      <th>Nox_GT</th>\n",
       "      <th>PT08_S3_Nox</th>\n",
       "      <th>NO2_GT</th>\n",
       "      <th>PT08_S4_NO2</th>\n",
       "      <th>PT08_S5_O3</th>\n",
       "      <th>T</th>\n",
       "      <th>RH</th>\n",
       "      <th>AH</th>\n",
       "      <th>CO_level</th>\n",
       "      <th>DateTime</th>\n",
       "      <th>Year</th>\n",
       "      <th>YearMonth</th>\n",
       "    </tr>\n",
       "  </thead>\n",
       "  <tbody>\n",
       "    <tr>\n",
       "      <td>0</td>\n",
       "      <td>2004-11-23</td>\n",
       "      <td>11.90</td>\n",
       "      <td>2008.0</td>\n",
       "      <td>50.6</td>\n",
       "      <td>1980.0</td>\n",
       "      <td>11.90</td>\n",
       "      <td>325.0</td>\n",
       "      <td>220.0</td>\n",
       "      <td>2562.0</td>\n",
       "      <td>2342.0</td>\n",
       "      <td>12.4</td>\n",
       "      <td>74.7</td>\n",
       "      <td>1.0741</td>\n",
       "      <td>Very High</td>\n",
       "      <td>2004-11-23 19:00:00</td>\n",
       "      <td>2004</td>\n",
       "      <td>2004-11</td>\n",
       "    </tr>\n",
       "    <tr>\n",
       "      <td>1</td>\n",
       "      <td>2004-11-23</td>\n",
       "      <td>11.50</td>\n",
       "      <td>1918.0</td>\n",
       "      <td>49.4</td>\n",
       "      <td>1958.0</td>\n",
       "      <td>11.50</td>\n",
       "      <td>335.0</td>\n",
       "      <td>190.0</td>\n",
       "      <td>2477.0</td>\n",
       "      <td>2237.0</td>\n",
       "      <td>11.5</td>\n",
       "      <td>76.2</td>\n",
       "      <td>1.0324</td>\n",
       "      <td>Very High</td>\n",
       "      <td>2004-11-23 20:00:00</td>\n",
       "      <td>2004</td>\n",
       "      <td>2004-11</td>\n",
       "    </tr>\n",
       "    <tr>\n",
       "      <td>2</td>\n",
       "      <td>2004-11-17</td>\n",
       "      <td>10.20</td>\n",
       "      <td>1802.0</td>\n",
       "      <td>47.7</td>\n",
       "      <td>1924.0</td>\n",
       "      <td>10.20</td>\n",
       "      <td>356.0</td>\n",
       "      <td>192.0</td>\n",
       "      <td>2235.0</td>\n",
       "      <td>2452.0</td>\n",
       "      <td>13.7</td>\n",
       "      <td>52.8</td>\n",
       "      <td>0.8244</td>\n",
       "      <td>Very High</td>\n",
       "      <td>2004-11-17 18:00:00</td>\n",
       "      <td>2004</td>\n",
       "      <td>2004-11</td>\n",
       "    </tr>\n",
       "    <tr>\n",
       "      <td>3</td>\n",
       "      <td>2004-11-23</td>\n",
       "      <td>10.20</td>\n",
       "      <td>1982.0</td>\n",
       "      <td>49.5</td>\n",
       "      <td>1959.0</td>\n",
       "      <td>10.20</td>\n",
       "      <td>322.0</td>\n",
       "      <td>227.0</td>\n",
       "      <td>2536.0</td>\n",
       "      <td>2386.0</td>\n",
       "      <td>13.2</td>\n",
       "      <td>72.6</td>\n",
       "      <td>1.0936</td>\n",
       "      <td>Very High</td>\n",
       "      <td>2004-11-23 18:00:00</td>\n",
       "      <td>2004</td>\n",
       "      <td>2004-11</td>\n",
       "    </tr>\n",
       "    <tr>\n",
       "      <td>4</td>\n",
       "      <td>2004-11-26</td>\n",
       "      <td>10.10</td>\n",
       "      <td>1956.0</td>\n",
       "      <td>45.2</td>\n",
       "      <td>1877.0</td>\n",
       "      <td>10.10</td>\n",
       "      <td>347.0</td>\n",
       "      <td>255.0</td>\n",
       "      <td>2338.0</td>\n",
       "      <td>2465.0</td>\n",
       "      <td>15.5</td>\n",
       "      <td>62.8</td>\n",
       "      <td>1.0979</td>\n",
       "      <td>Very High</td>\n",
       "      <td>2004-11-26 18:00:00</td>\n",
       "      <td>2004</td>\n",
       "      <td>2004-11</td>\n",
       "    </tr>\n",
       "    <tr>\n",
       "      <td>...</td>\n",
       "      <td>...</td>\n",
       "      <td>...</td>\n",
       "      <td>...</td>\n",
       "      <td>...</td>\n",
       "      <td>...</td>\n",
       "      <td>...</td>\n",
       "      <td>...</td>\n",
       "      <td>...</td>\n",
       "      <td>...</td>\n",
       "      <td>...</td>\n",
       "      <td>...</td>\n",
       "      <td>...</td>\n",
       "      <td>...</td>\n",
       "      <td>...</td>\n",
       "      <td>...</td>\n",
       "      <td>...</td>\n",
       "      <td>...</td>\n",
       "    </tr>\n",
       "    <tr>\n",
       "      <td>9352</td>\n",
       "      <td>2005-03-23</td>\n",
       "      <td>2.40</td>\n",
       "      <td>993.0</td>\n",
       "      <td>2.3</td>\n",
       "      <td>604.0</td>\n",
       "      <td>2.40</td>\n",
       "      <td>848.0</td>\n",
       "      <td>65.0</td>\n",
       "      <td>1160.0</td>\n",
       "      <td>762.0</td>\n",
       "      <td>14.5</td>\n",
       "      <td>66.4</td>\n",
       "      <td>1.0919</td>\n",
       "      <td>Very low</td>\n",
       "      <td>2005-03-23 04:00:00</td>\n",
       "      <td>2005</td>\n",
       "      <td>2005-03</td>\n",
       "    </tr>\n",
       "    <tr>\n",
       "      <td>9353</td>\n",
       "      <td>2005-03-26</td>\n",
       "      <td>1.90</td>\n",
       "      <td>1122.0</td>\n",
       "      <td>6.0</td>\n",
       "      <td>811.0</td>\n",
       "      <td>1.90</td>\n",
       "      <td>641.0</td>\n",
       "      <td>92.0</td>\n",
       "      <td>1336.0</td>\n",
       "      <td>1122.0</td>\n",
       "      <td>16.2</td>\n",
       "      <td>71.2</td>\n",
       "      <td>1.3013</td>\n",
       "      <td>Very low</td>\n",
       "      <td>2005-03-26 04:00:00</td>\n",
       "      <td>2005</td>\n",
       "      <td>2005-03</td>\n",
       "    </tr>\n",
       "    <tr>\n",
       "      <td>9354</td>\n",
       "      <td>2005-03-29</td>\n",
       "      <td>2.40</td>\n",
       "      <td>883.0</td>\n",
       "      <td>1.3</td>\n",
       "      <td>530.0</td>\n",
       "      <td>2.40</td>\n",
       "      <td>997.0</td>\n",
       "      <td>46.0</td>\n",
       "      <td>1102.0</td>\n",
       "      <td>617.0</td>\n",
       "      <td>13.7</td>\n",
       "      <td>68.2</td>\n",
       "      <td>1.0611</td>\n",
       "      <td>Very low</td>\n",
       "      <td>2005-03-29 04:00:00</td>\n",
       "      <td>2005</td>\n",
       "      <td>2005-03</td>\n",
       "    </tr>\n",
       "    <tr>\n",
       "      <td>9355</td>\n",
       "      <td>2005-04-01</td>\n",
       "      <td>1.10</td>\n",
       "      <td>818.0</td>\n",
       "      <td>0.8</td>\n",
       "      <td>473.0</td>\n",
       "      <td>1.10</td>\n",
       "      <td>1257.0</td>\n",
       "      <td>41.0</td>\n",
       "      <td>898.0</td>\n",
       "      <td>323.0</td>\n",
       "      <td>13.7</td>\n",
       "      <td>48.8</td>\n",
       "      <td>0.7606</td>\n",
       "      <td>Very low</td>\n",
       "      <td>2005-04-01 04:00:00</td>\n",
       "      <td>2005</td>\n",
       "      <td>2005-04</td>\n",
       "    </tr>\n",
       "    <tr>\n",
       "      <td>9356</td>\n",
       "      <td>2005-04-04</td>\n",
       "      <td>2.15</td>\n",
       "      <td>864.0</td>\n",
       "      <td>0.8</td>\n",
       "      <td>478.0</td>\n",
       "      <td>2.15</td>\n",
       "      <td>1116.0</td>\n",
       "      <td>43.0</td>\n",
       "      <td>958.0</td>\n",
       "      <td>489.0</td>\n",
       "      <td>11.8</td>\n",
       "      <td>56.0</td>\n",
       "      <td>0.7743</td>\n",
       "      <td>Very low</td>\n",
       "      <td>2005-04-04 04:00:00</td>\n",
       "      <td>2005</td>\n",
       "      <td>2005-04</td>\n",
       "    </tr>\n",
       "  </tbody>\n",
       "</table>\n",
       "<p>9357 rows × 17 columns</p>\n",
       "</div>"
      ],
      "text/plain": [
       "           Date  CO_GT  PT08_S1_CO  C6H6_GT  PT08_S2_NMHC  Nox_GT  \\\n",
       "0    2004-11-23  11.90      2008.0     50.6        1980.0   11.90   \n",
       "1    2004-11-23  11.50      1918.0     49.4        1958.0   11.50   \n",
       "2    2004-11-17  10.20      1802.0     47.7        1924.0   10.20   \n",
       "3    2004-11-23  10.20      1982.0     49.5        1959.0   10.20   \n",
       "4    2004-11-26  10.10      1956.0     45.2        1877.0   10.10   \n",
       "...         ...    ...         ...      ...           ...     ...   \n",
       "9352 2005-03-23   2.40       993.0      2.3         604.0    2.40   \n",
       "9353 2005-03-26   1.90      1122.0      6.0         811.0    1.90   \n",
       "9354 2005-03-29   2.40       883.0      1.3         530.0    2.40   \n",
       "9355 2005-04-01   1.10       818.0      0.8         473.0    1.10   \n",
       "9356 2005-04-04   2.15       864.0      0.8         478.0    2.15   \n",
       "\n",
       "      PT08_S3_Nox  NO2_GT  PT08_S4_NO2  PT08_S5_O3     T    RH      AH  \\\n",
       "0           325.0   220.0       2562.0      2342.0  12.4  74.7  1.0741   \n",
       "1           335.0   190.0       2477.0      2237.0  11.5  76.2  1.0324   \n",
       "2           356.0   192.0       2235.0      2452.0  13.7  52.8  0.8244   \n",
       "3           322.0   227.0       2536.0      2386.0  13.2  72.6  1.0936   \n",
       "4           347.0   255.0       2338.0      2465.0  15.5  62.8  1.0979   \n",
       "...           ...     ...          ...         ...   ...   ...     ...   \n",
       "9352        848.0    65.0       1160.0       762.0  14.5  66.4  1.0919   \n",
       "9353        641.0    92.0       1336.0      1122.0  16.2  71.2  1.3013   \n",
       "9354        997.0    46.0       1102.0       617.0  13.7  68.2  1.0611   \n",
       "9355       1257.0    41.0        898.0       323.0  13.7  48.8  0.7606   \n",
       "9356       1116.0    43.0        958.0       489.0  11.8  56.0  0.7743   \n",
       "\n",
       "       CO_level            DateTime  Year YearMonth  \n",
       "0     Very High 2004-11-23 19:00:00  2004   2004-11  \n",
       "1     Very High 2004-11-23 20:00:00  2004   2004-11  \n",
       "2     Very High 2004-11-17 18:00:00  2004   2004-11  \n",
       "3     Very High 2004-11-23 18:00:00  2004   2004-11  \n",
       "4     Very High 2004-11-26 18:00:00  2004   2004-11  \n",
       "...         ...                 ...   ...       ...  \n",
       "9352   Very low 2005-03-23 04:00:00  2005   2005-03  \n",
       "9353   Very low 2005-03-26 04:00:00  2005   2005-03  \n",
       "9354   Very low 2005-03-29 04:00:00  2005   2005-03  \n",
       "9355   Very low 2005-04-01 04:00:00  2005   2005-04  \n",
       "9356   Very low 2005-04-04 04:00:00  2005   2005-04  \n",
       "\n",
       "[9357 rows x 17 columns]"
      ]
     },
     "execution_count": 17,
     "metadata": {},
     "output_type": "execute_result"
    }
   ],
   "source": [
    "data"
   ]
  },
  {
   "cell_type": "code",
   "execution_count": 18,
   "metadata": {
    "scrolled": false
   },
   "outputs": [
    {
     "name": "stdout",
     "output_type": "stream",
     "text": [
      "<class 'pandas.core.frame.DataFrame'>\n",
      "RangeIndex: 9357 entries, 0 to 9356\n",
      "Data columns (total 17 columns):\n",
      "Date            9357 non-null datetime64[ns]\n",
      "CO_GT           9357 non-null float64\n",
      "PT08_S1_CO      9357 non-null float64\n",
      "C6H6_GT         9357 non-null float64\n",
      "PT08_S2_NMHC    9357 non-null float64\n",
      "Nox_GT          9357 non-null float64\n",
      "PT08_S3_Nox     9357 non-null float64\n",
      "NO2_GT          9357 non-null float64\n",
      "PT08_S4_NO2     9357 non-null float64\n",
      "PT08_S5_O3      9357 non-null float64\n",
      "T               9357 non-null float64\n",
      "RH              9357 non-null float64\n",
      "AH              9357 non-null float64\n",
      "CO_level        9357 non-null object\n",
      "DateTime        9357 non-null datetime64[ns]\n",
      "Year            9357 non-null int64\n",
      "YearMonth       9357 non-null period[M]\n",
      "dtypes: datetime64[ns](2), float64(12), int64(1), object(1), period[M](1)\n",
      "memory usage: 1.2+ MB\n"
     ]
    }
   ],
   "source": [
    "data.info()"
   ]
  },
  {
   "cell_type": "markdown",
   "metadata": {},
   "source": [
    "# summary statistics"
   ]
  },
  {
   "cell_type": "code",
   "execution_count": 19,
   "metadata": {
    "scrolled": true
   },
   "outputs": [
    {
     "data": {
      "text/html": [
       "<div>\n",
       "<style scoped>\n",
       "    .dataframe tbody tr th:only-of-type {\n",
       "        vertical-align: middle;\n",
       "    }\n",
       "\n",
       "    .dataframe tbody tr th {\n",
       "        vertical-align: top;\n",
       "    }\n",
       "\n",
       "    .dataframe thead th {\n",
       "        text-align: right;\n",
       "    }\n",
       "</style>\n",
       "<table border=\"1\" class=\"dataframe\">\n",
       "  <thead>\n",
       "    <tr style=\"text-align: right;\">\n",
       "      <th></th>\n",
       "      <th>CO_GT</th>\n",
       "      <th>PT08_S1_CO</th>\n",
       "      <th>C6H6_GT</th>\n",
       "      <th>PT08_S2_NMHC</th>\n",
       "      <th>Nox_GT</th>\n",
       "      <th>PT08_S3_Nox</th>\n",
       "      <th>NO2_GT</th>\n",
       "      <th>PT08_S4_NO2</th>\n",
       "      <th>PT08_S5_O3</th>\n",
       "      <th>T</th>\n",
       "      <th>RH</th>\n",
       "      <th>AH</th>\n",
       "      <th>Year</th>\n",
       "    </tr>\n",
       "  </thead>\n",
       "  <tbody>\n",
       "    <tr>\n",
       "      <td>count</td>\n",
       "      <td>9357.000000</td>\n",
       "      <td>9357.000000</td>\n",
       "      <td>9357.000000</td>\n",
       "      <td>9357.000000</td>\n",
       "      <td>9357.000000</td>\n",
       "      <td>9357.000000</td>\n",
       "      <td>9357.000000</td>\n",
       "      <td>9357.000000</td>\n",
       "      <td>9357.000000</td>\n",
       "      <td>9357.000000</td>\n",
       "      <td>9357.000000</td>\n",
       "      <td>9357.000000</td>\n",
       "      <td>9357.000000</td>\n",
       "    </tr>\n",
       "    <tr>\n",
       "      <td>mean</td>\n",
       "      <td>2.074880</td>\n",
       "      <td>1101.330181</td>\n",
       "      <td>10.094993</td>\n",
       "      <td>940.004489</td>\n",
       "      <td>2.074880</td>\n",
       "      <td>833.803356</td>\n",
       "      <td>109.589291</td>\n",
       "      <td>1451.813509</td>\n",
       "      <td>1028.944213</td>\n",
       "      <td>18.171374</td>\n",
       "      <td>49.306765</td>\n",
       "      <td>1.019338</td>\n",
       "      <td>2004.240141</td>\n",
       "    </tr>\n",
       "    <tr>\n",
       "      <td>std</td>\n",
       "      <td>1.389619</td>\n",
       "      <td>216.892854</td>\n",
       "      <td>7.417543</td>\n",
       "      <td>265.612688</td>\n",
       "      <td>1.389619</td>\n",
       "      <td>254.546535</td>\n",
       "      <td>46.173740</td>\n",
       "      <td>345.064921</td>\n",
       "      <td>401.305677</td>\n",
       "      <td>8.838006</td>\n",
       "      <td>17.255615</td>\n",
       "      <td>0.404268</td>\n",
       "      <td>0.427192</td>\n",
       "    </tr>\n",
       "    <tr>\n",
       "      <td>min</td>\n",
       "      <td>0.100000</td>\n",
       "      <td>647.000000</td>\n",
       "      <td>0.100000</td>\n",
       "      <td>383.000000</td>\n",
       "      <td>0.100000</td>\n",
       "      <td>322.000000</td>\n",
       "      <td>2.000000</td>\n",
       "      <td>551.000000</td>\n",
       "      <td>221.000000</td>\n",
       "      <td>-1.900000</td>\n",
       "      <td>9.200000</td>\n",
       "      <td>0.184700</td>\n",
       "      <td>2004.000000</td>\n",
       "    </tr>\n",
       "    <tr>\n",
       "      <td>25%</td>\n",
       "      <td>1.100000</td>\n",
       "      <td>938.000000</td>\n",
       "      <td>4.500000</td>\n",
       "      <td>735.000000</td>\n",
       "      <td>1.100000</td>\n",
       "      <td>658.000000</td>\n",
       "      <td>75.000000</td>\n",
       "      <td>1224.000000</td>\n",
       "      <td>735.000000</td>\n",
       "      <td>11.600000</td>\n",
       "      <td>36.100000</td>\n",
       "      <td>0.726200</td>\n",
       "      <td>2004.000000</td>\n",
       "    </tr>\n",
       "    <tr>\n",
       "      <td>50%</td>\n",
       "      <td>1.700000</td>\n",
       "      <td>1066.000000</td>\n",
       "      <td>8.300000</td>\n",
       "      <td>911.000000</td>\n",
       "      <td>1.700000</td>\n",
       "      <td>807.000000</td>\n",
       "      <td>104.000000</td>\n",
       "      <td>1458.000000</td>\n",
       "      <td>968.000000</td>\n",
       "      <td>17.600000</td>\n",
       "      <td>49.500000</td>\n",
       "      <td>0.988900</td>\n",
       "      <td>2004.000000</td>\n",
       "    </tr>\n",
       "    <tr>\n",
       "      <td>75%</td>\n",
       "      <td>2.800000</td>\n",
       "      <td>1235.000000</td>\n",
       "      <td>14.000000</td>\n",
       "      <td>1116.000000</td>\n",
       "      <td>2.800000</td>\n",
       "      <td>967.000000</td>\n",
       "      <td>135.000000</td>\n",
       "      <td>1665.000000</td>\n",
       "      <td>1281.000000</td>\n",
       "      <td>24.300000</td>\n",
       "      <td>62.500000</td>\n",
       "      <td>1.305700</td>\n",
       "      <td>2004.000000</td>\n",
       "    </tr>\n",
       "    <tr>\n",
       "      <td>max</td>\n",
       "      <td>11.900000</td>\n",
       "      <td>2040.000000</td>\n",
       "      <td>63.700000</td>\n",
       "      <td>2214.000000</td>\n",
       "      <td>11.900000</td>\n",
       "      <td>2683.000000</td>\n",
       "      <td>340.000000</td>\n",
       "      <td>2775.000000</td>\n",
       "      <td>2523.000000</td>\n",
       "      <td>44.600000</td>\n",
       "      <td>88.700000</td>\n",
       "      <td>2.231000</td>\n",
       "      <td>2005.000000</td>\n",
       "    </tr>\n",
       "  </tbody>\n",
       "</table>\n",
       "</div>"
      ],
      "text/plain": [
       "             CO_GT   PT08_S1_CO      C6H6_GT  PT08_S2_NMHC       Nox_GT  \\\n",
       "count  9357.000000  9357.000000  9357.000000   9357.000000  9357.000000   \n",
       "mean      2.074880  1101.330181    10.094993    940.004489     2.074880   \n",
       "std       1.389619   216.892854     7.417543    265.612688     1.389619   \n",
       "min       0.100000   647.000000     0.100000    383.000000     0.100000   \n",
       "25%       1.100000   938.000000     4.500000    735.000000     1.100000   \n",
       "50%       1.700000  1066.000000     8.300000    911.000000     1.700000   \n",
       "75%       2.800000  1235.000000    14.000000   1116.000000     2.800000   \n",
       "max      11.900000  2040.000000    63.700000   2214.000000    11.900000   \n",
       "\n",
       "       PT08_S3_Nox       NO2_GT  PT08_S4_NO2   PT08_S5_O3            T  \\\n",
       "count  9357.000000  9357.000000  9357.000000  9357.000000  9357.000000   \n",
       "mean    833.803356   109.589291  1451.813509  1028.944213    18.171374   \n",
       "std     254.546535    46.173740   345.064921   401.305677     8.838006   \n",
       "min     322.000000     2.000000   551.000000   221.000000    -1.900000   \n",
       "25%     658.000000    75.000000  1224.000000   735.000000    11.600000   \n",
       "50%     807.000000   104.000000  1458.000000   968.000000    17.600000   \n",
       "75%     967.000000   135.000000  1665.000000  1281.000000    24.300000   \n",
       "max    2683.000000   340.000000  2775.000000  2523.000000    44.600000   \n",
       "\n",
       "                RH           AH         Year  \n",
       "count  9357.000000  9357.000000  9357.000000  \n",
       "mean     49.306765     1.019338  2004.240141  \n",
       "std      17.255615     0.404268     0.427192  \n",
       "min       9.200000     0.184700  2004.000000  \n",
       "25%      36.100000     0.726200  2004.000000  \n",
       "50%      49.500000     0.988900  2004.000000  \n",
       "75%      62.500000     1.305700  2004.000000  \n",
       "max      88.700000     2.231000  2005.000000  "
      ]
     },
     "execution_count": 19,
     "metadata": {},
     "output_type": "execute_result"
    }
   ],
   "source": [
    "data.describe()"
   ]
  },
  {
   "cell_type": "code",
   "execution_count": 20,
   "metadata": {
    "scrolled": true
   },
   "outputs": [
    {
     "data": {
      "text/html": [
       "<div>\n",
       "<style scoped>\n",
       "    .dataframe tbody tr th:only-of-type {\n",
       "        vertical-align: middle;\n",
       "    }\n",
       "\n",
       "    .dataframe tbody tr th {\n",
       "        vertical-align: top;\n",
       "    }\n",
       "\n",
       "    .dataframe thead th {\n",
       "        text-align: right;\n",
       "    }\n",
       "</style>\n",
       "<table border=\"1\" class=\"dataframe\">\n",
       "  <thead>\n",
       "    <tr style=\"text-align: right;\">\n",
       "      <th></th>\n",
       "      <th>CO_GT</th>\n",
       "      <th>PT08_S1_CO</th>\n",
       "      <th>C6H6_GT</th>\n",
       "      <th>PT08_S2_NMHC</th>\n",
       "      <th>Nox_GT</th>\n",
       "      <th>PT08_S3_Nox</th>\n",
       "      <th>NO2_GT</th>\n",
       "      <th>PT08_S4_NO2</th>\n",
       "      <th>PT08_S5_O3</th>\n",
       "      <th>T</th>\n",
       "      <th>RH</th>\n",
       "      <th>AH</th>\n",
       "    </tr>\n",
       "  </thead>\n",
       "  <tbody>\n",
       "    <tr>\n",
       "      <td>0</td>\n",
       "      <td>11.90</td>\n",
       "      <td>2008.0</td>\n",
       "      <td>50.6</td>\n",
       "      <td>1980.0</td>\n",
       "      <td>11.90</td>\n",
       "      <td>325.0</td>\n",
       "      <td>220.0</td>\n",
       "      <td>2562.0</td>\n",
       "      <td>2342.0</td>\n",
       "      <td>12.4</td>\n",
       "      <td>74.7</td>\n",
       "      <td>1.0741</td>\n",
       "    </tr>\n",
       "    <tr>\n",
       "      <td>1</td>\n",
       "      <td>11.50</td>\n",
       "      <td>1918.0</td>\n",
       "      <td>49.4</td>\n",
       "      <td>1958.0</td>\n",
       "      <td>11.50</td>\n",
       "      <td>335.0</td>\n",
       "      <td>190.0</td>\n",
       "      <td>2477.0</td>\n",
       "      <td>2237.0</td>\n",
       "      <td>11.5</td>\n",
       "      <td>76.2</td>\n",
       "      <td>1.0324</td>\n",
       "    </tr>\n",
       "    <tr>\n",
       "      <td>2</td>\n",
       "      <td>10.20</td>\n",
       "      <td>1802.0</td>\n",
       "      <td>47.7</td>\n",
       "      <td>1924.0</td>\n",
       "      <td>10.20</td>\n",
       "      <td>356.0</td>\n",
       "      <td>192.0</td>\n",
       "      <td>2235.0</td>\n",
       "      <td>2452.0</td>\n",
       "      <td>13.7</td>\n",
       "      <td>52.8</td>\n",
       "      <td>0.8244</td>\n",
       "    </tr>\n",
       "    <tr>\n",
       "      <td>3</td>\n",
       "      <td>10.20</td>\n",
       "      <td>1982.0</td>\n",
       "      <td>49.5</td>\n",
       "      <td>1959.0</td>\n",
       "      <td>10.20</td>\n",
       "      <td>322.0</td>\n",
       "      <td>227.0</td>\n",
       "      <td>2536.0</td>\n",
       "      <td>2386.0</td>\n",
       "      <td>13.2</td>\n",
       "      <td>72.6</td>\n",
       "      <td>1.0936</td>\n",
       "    </tr>\n",
       "    <tr>\n",
       "      <td>4</td>\n",
       "      <td>10.10</td>\n",
       "      <td>1956.0</td>\n",
       "      <td>45.2</td>\n",
       "      <td>1877.0</td>\n",
       "      <td>10.10</td>\n",
       "      <td>347.0</td>\n",
       "      <td>255.0</td>\n",
       "      <td>2338.0</td>\n",
       "      <td>2465.0</td>\n",
       "      <td>15.5</td>\n",
       "      <td>62.8</td>\n",
       "      <td>1.0979</td>\n",
       "    </tr>\n",
       "    <tr>\n",
       "      <td>...</td>\n",
       "      <td>...</td>\n",
       "      <td>...</td>\n",
       "      <td>...</td>\n",
       "      <td>...</td>\n",
       "      <td>...</td>\n",
       "      <td>...</td>\n",
       "      <td>...</td>\n",
       "      <td>...</td>\n",
       "      <td>...</td>\n",
       "      <td>...</td>\n",
       "      <td>...</td>\n",
       "      <td>...</td>\n",
       "    </tr>\n",
       "    <tr>\n",
       "      <td>9352</td>\n",
       "      <td>2.40</td>\n",
       "      <td>993.0</td>\n",
       "      <td>2.3</td>\n",
       "      <td>604.0</td>\n",
       "      <td>2.40</td>\n",
       "      <td>848.0</td>\n",
       "      <td>65.0</td>\n",
       "      <td>1160.0</td>\n",
       "      <td>762.0</td>\n",
       "      <td>14.5</td>\n",
       "      <td>66.4</td>\n",
       "      <td>1.0919</td>\n",
       "    </tr>\n",
       "    <tr>\n",
       "      <td>9353</td>\n",
       "      <td>1.90</td>\n",
       "      <td>1122.0</td>\n",
       "      <td>6.0</td>\n",
       "      <td>811.0</td>\n",
       "      <td>1.90</td>\n",
       "      <td>641.0</td>\n",
       "      <td>92.0</td>\n",
       "      <td>1336.0</td>\n",
       "      <td>1122.0</td>\n",
       "      <td>16.2</td>\n",
       "      <td>71.2</td>\n",
       "      <td>1.3013</td>\n",
       "    </tr>\n",
       "    <tr>\n",
       "      <td>9354</td>\n",
       "      <td>2.40</td>\n",
       "      <td>883.0</td>\n",
       "      <td>1.3</td>\n",
       "      <td>530.0</td>\n",
       "      <td>2.40</td>\n",
       "      <td>997.0</td>\n",
       "      <td>46.0</td>\n",
       "      <td>1102.0</td>\n",
       "      <td>617.0</td>\n",
       "      <td>13.7</td>\n",
       "      <td>68.2</td>\n",
       "      <td>1.0611</td>\n",
       "    </tr>\n",
       "    <tr>\n",
       "      <td>9355</td>\n",
       "      <td>1.10</td>\n",
       "      <td>818.0</td>\n",
       "      <td>0.8</td>\n",
       "      <td>473.0</td>\n",
       "      <td>1.10</td>\n",
       "      <td>1257.0</td>\n",
       "      <td>41.0</td>\n",
       "      <td>898.0</td>\n",
       "      <td>323.0</td>\n",
       "      <td>13.7</td>\n",
       "      <td>48.8</td>\n",
       "      <td>0.7606</td>\n",
       "    </tr>\n",
       "    <tr>\n",
       "      <td>9356</td>\n",
       "      <td>2.15</td>\n",
       "      <td>864.0</td>\n",
       "      <td>0.8</td>\n",
       "      <td>478.0</td>\n",
       "      <td>2.15</td>\n",
       "      <td>1116.0</td>\n",
       "      <td>43.0</td>\n",
       "      <td>958.0</td>\n",
       "      <td>489.0</td>\n",
       "      <td>11.8</td>\n",
       "      <td>56.0</td>\n",
       "      <td>0.7743</td>\n",
       "    </tr>\n",
       "  </tbody>\n",
       "</table>\n",
       "<p>9357 rows × 12 columns</p>\n",
       "</div>"
      ],
      "text/plain": [
       "      CO_GT  PT08_S1_CO  C6H6_GT  PT08_S2_NMHC  Nox_GT  PT08_S3_Nox  NO2_GT  \\\n",
       "0     11.90      2008.0     50.6        1980.0   11.90        325.0   220.0   \n",
       "1     11.50      1918.0     49.4        1958.0   11.50        335.0   190.0   \n",
       "2     10.20      1802.0     47.7        1924.0   10.20        356.0   192.0   \n",
       "3     10.20      1982.0     49.5        1959.0   10.20        322.0   227.0   \n",
       "4     10.10      1956.0     45.2        1877.0   10.10        347.0   255.0   \n",
       "...     ...         ...      ...           ...     ...          ...     ...   \n",
       "9352   2.40       993.0      2.3         604.0    2.40        848.0    65.0   \n",
       "9353   1.90      1122.0      6.0         811.0    1.90        641.0    92.0   \n",
       "9354   2.40       883.0      1.3         530.0    2.40        997.0    46.0   \n",
       "9355   1.10       818.0      0.8         473.0    1.10       1257.0    41.0   \n",
       "9356   2.15       864.0      0.8         478.0    2.15       1116.0    43.0   \n",
       "\n",
       "      PT08_S4_NO2  PT08_S5_O3     T    RH      AH  \n",
       "0          2562.0      2342.0  12.4  74.7  1.0741  \n",
       "1          2477.0      2237.0  11.5  76.2  1.0324  \n",
       "2          2235.0      2452.0  13.7  52.8  0.8244  \n",
       "3          2536.0      2386.0  13.2  72.6  1.0936  \n",
       "4          2338.0      2465.0  15.5  62.8  1.0979  \n",
       "...           ...         ...   ...   ...     ...  \n",
       "9352       1160.0       762.0  14.5  66.4  1.0919  \n",
       "9353       1336.0      1122.0  16.2  71.2  1.3013  \n",
       "9354       1102.0       617.0  13.7  68.2  1.0611  \n",
       "9355        898.0       323.0  13.7  48.8  0.7606  \n",
       "9356        958.0       489.0  11.8  56.0  0.7743  \n",
       "\n",
       "[9357 rows x 12 columns]"
      ]
     },
     "execution_count": 20,
     "metadata": {},
     "output_type": "execute_result"
    }
   ],
   "source": [
    "data1=data.drop([\"Date\",\"DateTime\",\"Year\",\"YearMonth\",\"CO_level\"],axis=1)\n",
    "data1 #mengambil data numerik saja untuk PCA dan Cluster"
   ]
  },
  {
   "cell_type": "code",
   "execution_count": 21,
   "metadata": {},
   "outputs": [
    {
     "name": "stdout",
     "output_type": "stream",
     "text": [
      "[[7.07074693 4.18048937 5.46099574 ... 0.65305257 1.47167121 0.13546757]\n",
      " [6.78288289 3.76551577 5.29920846 ... 0.75489093 1.55860408 0.03231276]\n",
      " [5.84732477 3.2306609  5.07000982 ... 0.50595271 0.2024513  0.48222445]\n",
      " ...\n",
      " [0.23397606 1.00668069 1.185765   ... 0.50595271 1.0949621  0.103309  ]\n",
      " [0.70158206 1.30638385 1.25317637 ... 0.50595271 0.02936969 0.64004884]\n",
      " [0.05406103 1.09428623 1.25317637 ... 0.72094481 0.38790809 0.60615865]]\n"
     ]
    }
   ],
   "source": [
    "from scipy import stats #outlier\n",
    "z=np.abs(stats.zscore(data1._get_numeric_data()))\n",
    "print(z)"
   ]
  },
  {
   "cell_type": "code",
   "execution_count": 22,
   "metadata": {},
   "outputs": [
    {
     "name": "stdout",
     "output_type": "stream",
     "text": [
      "(8991, 12)\n"
     ]
    }
   ],
   "source": [
    "outlier=data1[(z<3).all(axis=1)]\n",
    "print(outlier.shape) #jumlah data tidak outlier"
   ]
  },
  {
   "cell_type": "code",
   "execution_count": 23,
   "metadata": {
    "scrolled": false
   },
   "outputs": [
    {
     "data": {
      "text/html": [
       "<div>\n",
       "<style scoped>\n",
       "    .dataframe tbody tr th:only-of-type {\n",
       "        vertical-align: middle;\n",
       "    }\n",
       "\n",
       "    .dataframe tbody tr th {\n",
       "        vertical-align: top;\n",
       "    }\n",
       "\n",
       "    .dataframe thead th {\n",
       "        text-align: right;\n",
       "    }\n",
       "</style>\n",
       "<table border=\"1\" class=\"dataframe\">\n",
       "  <thead>\n",
       "    <tr style=\"text-align: right;\">\n",
       "      <th></th>\n",
       "      <th>Keterangan:</th>\n",
       "      <th>jumlah observasi</th>\n",
       "    </tr>\n",
       "  </thead>\n",
       "  <tbody>\n",
       "    <tr>\n",
       "      <td>0</td>\n",
       "      <td>tidak ada outlier</td>\n",
       "      <td>8991</td>\n",
       "    </tr>\n",
       "    <tr>\n",
       "      <td>1</td>\n",
       "      <td>outlier</td>\n",
       "      <td>366</td>\n",
       "    </tr>\n",
       "  </tbody>\n",
       "</table>\n",
       "</div>"
      ],
      "text/plain": [
       "         Keterangan:  jumlah observasi\n",
       "0  tidak ada outlier              8991\n",
       "1            outlier               366"
      ]
     },
     "execution_count": 23,
     "metadata": {},
     "output_type": "execute_result"
    }
   ],
   "source": [
    "c=pd.DataFrame([])\n",
    "c[\"Keterangan:\"]=[\"tidak ada outlier\",\"outlier\"]\n",
    "c[\"jumlah observasi\"]=[8991,9357-8991]\n",
    "c"
   ]
  },
  {
   "cell_type": "code",
   "execution_count": 24,
   "metadata": {},
   "outputs": [],
   "source": [
    "data2=data.sort_values(by=['Date']) #agar lebih mudah visualisasi"
   ]
  },
  {
   "cell_type": "markdown",
   "metadata": {},
   "source": [
    "# Visualisasi data"
   ]
  },
  {
   "cell_type": "code",
   "execution_count": 25,
   "metadata": {
    "scrolled": false
   },
   "outputs": [
    {
     "data": {
      "text/plain": [
       "<matplotlib.axes._subplots.AxesSubplot at 0x18bd1af0b48>"
      ]
     },
     "execution_count": 25,
     "metadata": {},
     "output_type": "execute_result"
    },
    {
     "data": {
      "image/png": "[encoded data removed]",
      "text/plain": [
       "<Figure size 432x288 with 1 Axes>"
      ]
     },
     "metadata": {
      "needs_background": "light"
     },
     "output_type": "display_data"
    }
   ],
   "source": [
    "sns.pointplot(x=\"YearMonth\",y=\"CO_GT\",hue=\"Year\",data=data2)"
   ]
  },
  {
   "cell_type": "code",
   "execution_count": 26,
   "metadata": {
    "scrolled": false
   },
   "outputs": [
    {
     "data": {
      "text/plain": [
       "<matplotlib.axes._subplots.AxesSubplot at 0x18bd78817c8>"
      ]
     },
     "execution_count": 26,
     "metadata": {},
     "output_type": "execute_result"
    },
    {
     "data": {
      "image/png": "[encoded data removed]",
      "text/plain": [
       "<Figure size 432x288 with 1 Axes>"
      ]
     },
     "metadata": {
      "needs_background": "light"
     },
     "output_type": "display_data"
    }
   ],
   "source": [
    "sns.pointplot(x=\"YearMonth\",y=\"NO2_GT\",hue=\"Year\",data=data2)"
   ]
  },
  {
   "cell_type": "code",
   "execution_count": 27,
   "metadata": {},
   "outputs": [
    {
     "data": {
      "text/plain": [
       "<matplotlib.axes._subplots.AxesSubplot at 0x18bd79685c8>"
      ]
     },
     "execution_count": 27,
     "metadata": {},
     "output_type": "execute_result"
    },
    {
     "data": {
      "image/png": "[encoded data removed]",
      "text/plain": [
       "<Figure size 432x288 with 1 Axes>"
      ]
     },
     "metadata": {
      "needs_background": "light"
     },
     "output_type": "display_data"
    }
   ],
   "source": [
    "sns.pointplot(x=\"YearMonth\",y=\"Nox_GT\",hue=\"Year\",data=data2)"
   ]
  },
  {
   "cell_type": "code",
   "execution_count": 28,
   "metadata": {},
   "outputs": [
    {
     "data": {
      "text/plain": [
       "<matplotlib.axes._subplots.AxesSubplot at 0x18bd74f22c8>"
      ]
     },
     "execution_count": 28,
     "metadata": {},
     "output_type": "execute_result"
    },
    {
     "data": {
      "image/png": "[encoded data removed]",
      "text/plain": [
       "<Figure size 432x288 with 1 Axes>"
      ]
     },
     "metadata": {
      "needs_background": "light"
     },
     "output_type": "display_data"
    }
   ],
   "source": [
    "sns.pointplot(x=\"YearMonth\",y=\"C6H6_GT\",hue=\"Year\",data=data2)"
   ]
  },
  {
   "cell_type": "code",
   "execution_count": 29,
   "metadata": {},
   "outputs": [
    {
     "data": {
      "text/plain": [
       "<matplotlib.axes._subplots.AxesSubplot at 0x18bd7a5ba88>"
      ]
     },
     "execution_count": 29,
     "metadata": {},
     "output_type": "execute_result"
    },
    {
     "data": {
      "image/png": "[encoded data removed]",
      "text/plain": [
       "<Figure size 432x288 with 1 Axes>"
      ]
     },
     "metadata": {
      "needs_background": "light"
     },
     "output_type": "display_data"
    }
   ],
   "source": [
    "sns.pointplot(x=\"YearMonth\",y=\"PT08_S5_O3\",hue=\"Year\",data=data2)"
   ]
  },
  {
   "cell_type": "code",
   "execution_count": 30,
   "metadata": {
    "scrolled": true
   },
   "outputs": [
    {
     "data": {
      "text/plain": [
       "<matplotlib.axes._subplots.AxesSubplot at 0x18bd7b3d908>"
      ]
     },
     "execution_count": 30,
     "metadata": {},
     "output_type": "execute_result"
    },
    {
     "data": {
      "image/png": "[encoded data removed]",
      "text/plain": [
       "<Figure size 432x288 with 1 Axes>"
      ]
     },
     "metadata": {
      "needs_background": "light"
     },
     "output_type": "display_data"
    }
   ],
   "source": [
    "sns.boxplot(y ='NO2_GT',x='CO_level',hue= 'CO_level',data=data)"
   ]
  },
  {
   "cell_type": "code",
   "execution_count": 31,
   "metadata": {
    "scrolled": true
   },
   "outputs": [
    {
     "data": {
      "text/plain": [
       "<matplotlib.axes._subplots.AxesSubplot at 0x18bd7b30848>"
      ]
     },
     "execution_count": 31,
     "metadata": {},
     "output_type": "execute_result"
    },
    {
     "data": {
      "image/png": "[encoded data removed]",
      "text/plain": [
       "<Figure size 432x288 with 1 Axes>"
      ]
     },
     "metadata": {
      "needs_background": "light"
     },
     "output_type": "display_data"
    }
   ],
   "source": [
    "sns.boxplot(y=\"C6H6_GT\",x='CO_level',data=data)"
   ]
  },
  {
   "cell_type": "code",
   "execution_count": 32,
   "metadata": {
    "scrolled": true
   },
   "outputs": [
    {
     "data": {
      "text/plain": [
       "<matplotlib.axes._subplots.AxesSubplot at 0x18bd7ce7f88>"
      ]
     },
     "execution_count": 32,
     "metadata": {},
     "output_type": "execute_result"
    },
    {
     "data": {
      "image/png": "[encoded data removed]",
      "text/plain": [
       "<Figure size 432x288 with 1 Axes>"
      ]
     },
     "metadata": {
      "needs_background": "light"
     },
     "output_type": "display_data"
    }
   ],
   "source": [
    "sns.boxplot(y=\"PT08_S5_O3\",x='CO_level',data=data)"
   ]
  },
  {
   "cell_type": "code",
   "execution_count": 33,
   "metadata": {
    "scrolled": true
   },
   "outputs": [
    {
     "data": {
      "text/plain": [
       "<matplotlib.axes._subplots.AxesSubplot at 0x18bd7cd8ec8>"
      ]
     },
     "execution_count": 33,
     "metadata": {},
     "output_type": "execute_result"
    },
    {
     "data": {
      "image/png": "[encoded data removed]",
      "text/plain": [
       "<Figure size 432x288 with 1 Axes>"
      ]
     },
     "metadata": {
      "needs_background": "light"
     },
     "output_type": "display_data"
    }
   ],
   "source": [
    "sns.boxplot(y=\"T\",x='CO_level',data=data)"
   ]
  },
  {
   "cell_type": "code",
   "execution_count": 34,
   "metadata": {
    "scrolled": true
   },
   "outputs": [
    {
     "data": {
      "text/plain": [
       "<matplotlib.axes._subplots.AxesSubplot at 0x18bd8ee4bc8>"
      ]
     },
     "execution_count": 34,
     "metadata": {},
     "output_type": "execute_result"
    },
    {
     "data": {
      "image/png": "[encoded data removed]",
      "text/plain": [
       "<Figure size 432x288 with 1 Axes>"
      ]
     },
     "metadata": {
      "needs_background": "light"
     },
     "output_type": "display_data"
    }
   ],
   "source": [
    "sns.boxplot(y=\"Nox_GT\",x='CO_level',data=data)"
   ]
  },
  {
   "cell_type": "code",
   "execution_count": 35,
   "metadata": {
    "scrolled": true
   },
   "outputs": [
    {
     "data": {
      "text/plain": [
       "<matplotlib.axes._subplots.AxesSubplot at 0x18bd8fb8f88>"
      ]
     },
     "execution_count": 35,
     "metadata": {},
     "output_type": "execute_result"
    },
    {
     "data": {
      "image/png": "[encoded data removed]",
      "text/plain": [
       "<Figure size 432x288 with 1 Axes>"
      ]
     },
     "metadata": {
      "needs_background": "light"
     },
     "output_type": "display_data"
    }
   ],
   "source": [
    "sns.boxplot(y=\"RH\",x='CO_level',data=data)"
   ]
  },
  {
   "cell_type": "code",
   "execution_count": 36,
   "metadata": {
    "scrolled": true
   },
   "outputs": [
    {
     "data": {
      "text/plain": [
       "<matplotlib.axes._subplots.AxesSubplot at 0x18bd9068048>"
      ]
     },
     "execution_count": 36,
     "metadata": {},
     "output_type": "execute_result"
    },
    {
     "data": {
      "image/png": "[encoded data removed]",
      "text/plain": [
       "<Figure size 432x288 with 1 Axes>"
      ]
     },
     "metadata": {
      "needs_background": "light"
     },
     "output_type": "display_data"
    }
   ],
   "source": [
    "sns.boxplot(y=\"AH\",x='CO_level',data=data)"
   ]
  },
  {
   "cell_type": "code",
   "execution_count": 37,
   "metadata": {
    "scrolled": true
   },
   "outputs": [
    {
     "data": {
      "text/plain": [
       "<matplotlib.axes._subplots.AxesSubplot at 0x18bd908dc08>"
      ]
     },
     "execution_count": 37,
     "metadata": {},
     "output_type": "execute_result"
    },
    {
     "data": {
      "image/png": "[encoded data removed]",
      "text/plain": [
       "<Figure size 432x288 with 2 Axes>"
      ]
     },
     "metadata": {
      "needs_background": "light"
     },
     "output_type": "display_data"
    }
   ],
   "source": [
    "korelasi=data1.corr()\n",
    "sns.heatmap(korelasi,square=True)"
   ]
  },
  {
   "cell_type": "code",
   "execution_count": 38,
   "metadata": {},
   "outputs": [
    {
     "data": {
      "text/plain": [
       "<matplotlib.axes._subplots.AxesSubplot at 0x18bd919ad88>"
      ]
     },
     "execution_count": 38,
     "metadata": {},
     "output_type": "execute_result"
    },
    {
     "data": {
      "image/png": "[encoded data removed]",
      "text/plain": [
       "<Figure size 432x288 with 1 Axes>"
      ]
     },
     "metadata": {
      "needs_background": "light"
     },
     "output_type": "display_data"
    }
   ],
   "source": [
    "sns.boxplot(x=\"YearMonth\",y=\"T\",hue=\"Year\",data=data2)"
   ]
  },
  {
   "cell_type": "code",
   "execution_count": 39,
   "metadata": {
    "scrolled": false
   },
   "outputs": [
    {
     "data": {
      "text/plain": [
       "<matplotlib.axes._subplots.AxesSubplot at 0x18bd93bdb88>"
      ]
     },
     "execution_count": 39,
     "metadata": {},
     "output_type": "execute_result"
    },
    {
     "data": {
      "image/png": "[encoded data removed]",
      "text/plain": [
       "<Figure size 432x288 with 1 Axes>"
      ]
     },
     "metadata": {
      "needs_background": "light"
     },
     "output_type": "display_data"
    }
   ],
   "source": [
    "sns.boxplot(x=\"YearMonth\",y=\"RH\",hue=\"Year\",data=data2)"
   ]
  },
  {
   "cell_type": "code",
   "execution_count": 69,
   "metadata": {
    "scrolled": true
   },
   "outputs": [
    {
     "data": {
      "text/plain": [
       "<matplotlib.axes._subplots.AxesSubplot at 0x18bdc5177c8>"
      ]
     },
     "execution_count": 69,
     "metadata": {},
     "output_type": "execute_result"
    },
    {
     "data": {
      "image/png": "[encoded data removed]",
      "text/plain": [
       "<Figure size 432x288 with 1 Axes>"
      ]
     },
     "metadata": {
      "needs_background": "light"
     },
     "output_type": "display_data"
    }
   ],
   "source": [
    "sns.pointplot(x=\"YearMonth\",y=\"RH\",hue=\"Year\",data=data2)"
   ]
  },
  {
   "cell_type": "code",
   "execution_count": 41,
   "metadata": {},
   "outputs": [
    {
     "data": {
      "text/plain": [
       "<matplotlib.axes._subplots.AxesSubplot at 0x18bd957f288>"
      ]
     },
     "execution_count": 41,
     "metadata": {},
     "output_type": "execute_result"
    },
    {
     "data": {
      "image/png": "[encoded data removed]",
      "text/plain": [
       "<Figure size 432x288 with 1 Axes>"
      ]
     },
     "metadata": {
      "needs_background": "light"
     },
     "output_type": "display_data"
    }
   ],
   "source": [
    "sns.boxplot(x=\"YearMonth\",y=\"CO_GT\",hue=\"Year\",data=data2)"
   ]
  },
  {
   "cell_type": "code",
   "execution_count": 42,
   "metadata": {},
   "outputs": [
    {
     "data": {
      "text/plain": [
       "<matplotlib.axes._subplots.AxesSubplot at 0x18bd97dde08>"
      ]
     },
     "execution_count": 42,
     "metadata": {},
     "output_type": "execute_result"
    },
    {
     "data": {
      "image/png": "[encoded data removed]",
      "text/plain": [
       "<Figure size 432x288 with 1 Axes>"
      ]
     },
     "metadata": {
      "needs_background": "light"
     },
     "output_type": "display_data"
    }
   ],
   "source": [
    "sns.boxplot(x=\"YearMonth\",y=\"Nox_GT\",hue=\"Year\",data=data2)"
   ]
  },
  {
   "cell_type": "code",
   "execution_count": 43,
   "metadata": {
    "scrolled": true
   },
   "outputs": [
    {
     "data": {
      "text/plain": [
       "<matplotlib.axes._subplots.AxesSubplot at 0x18bd9984848>"
      ]
     },
     "execution_count": 43,
     "metadata": {},
     "output_type": "execute_result"
    },
    {
     "data": {
      "image/png": "[encoded data removed]",
      "text/plain": [
       "<Figure size 432x288 with 1 Axes>"
      ]
     },
     "metadata": {
      "needs_background": "light"
     },
     "output_type": "display_data"
    }
   ],
   "source": [
    "sns.boxplot(x=\"YearMonth\",y=\"NO2_GT\",hue=\"Year\",data=data2)"
   ]
  },
  {
   "cell_type": "code",
   "execution_count": 44,
   "metadata": {},
   "outputs": [
    {
     "data": {
      "text/plain": [
       "<matplotlib.axes._subplots.AxesSubplot at 0x18bd9b13f88>"
      ]
     },
     "execution_count": 44,
     "metadata": {},
     "output_type": "execute_result"
    },
    {
     "data": {
      "image/png": "[encoded data removed]",
      "text/plain": [
       "<Figure size 432x288 with 1 Axes>"
      ]
     },
     "metadata": {
      "needs_background": "light"
     },
     "output_type": "display_data"
    }
   ],
   "source": [
    "sns.boxplot(x=\"YearMonth\",y=\"PT08_S5_O3\",hue=\"Year\",data=data2)"
   ]
  },
  {
   "cell_type": "code",
   "execution_count": 45,
   "metadata": {
    "scrolled": true
   },
   "outputs": [
    {
     "data": {
      "text/plain": [
       "<matplotlib.axes._subplots.AxesSubplot at 0x18bd9adb548>"
      ]
     },
     "execution_count": 45,
     "metadata": {},
     "output_type": "execute_result"
    },
    {
     "data": {
      "image/png": "[encoded data removed]",
      "text/plain": [
       "<Figure size 432x288 with 1 Axes>"
      ]
     },
     "metadata": {
      "needs_background": "light"
     },
     "output_type": "display_data"
    }
   ],
   "source": [
    "sns.boxplot(x=\"YearMonth\",y=\"AH\",hue=\"Year\",data=data2)"
   ]
  },
  {
   "cell_type": "code",
   "execution_count": 67,
   "metadata": {
    "scrolled": true
   },
   "outputs": [
    {
     "data": {
      "text/plain": [
       "<matplotlib.axes._subplots.AxesSubplot at 0x18bdc403b88>"
      ]
     },
     "execution_count": 67,
     "metadata": {},
     "output_type": "execute_result"
    },
    {
     "data": {
      "image/png": "[encoded data removed]",
      "text/plain": [
       "<Figure size 432x288 with 1 Axes>"
      ]
     },
     "metadata": {
      "needs_background": "light"
     },
     "output_type": "display_data"
    }
   ],
   "source": [
    "sns.pointplot(x=\"YearMonth\",y=\"T\",hue=\"Year\",data=data2)"
   ]
  },
  {
   "cell_type": "code",
   "execution_count": 68,
   "metadata": {},
   "outputs": [
    {
     "data": {
      "text/plain": [
       "<matplotlib.axes._subplots.AxesSubplot at 0x18bdc505408>"
      ]
     },
     "execution_count": 68,
     "metadata": {},
     "output_type": "execute_result"
    },
    {
     "data": {
      "image/png": "[encoded data removed]",
      "text/plain": [
       "<Figure size 432x288 with 1 Axes>"
      ]
     },
     "metadata": {
      "needs_background": "light"
     },
     "output_type": "display_data"
    }
   ],
   "source": [
    "sns.pointplot(x=\"YearMonth\",y=\"AH\",hue=\"Year\",data=data2)"
   ]
  },
  {
   "cell_type": "markdown",
   "metadata": {},
   "source": [
    "# Clustering"
   ]
  },
  {
   "cell_type": "code",
   "execution_count": 46,
   "metadata": {},
   "outputs": [],
   "source": [
    "x=data1.iloc[:, [0,1,2,3,4,5,6,7,8,9,10,11]].values"
   ]
  },
  {
   "cell_type": "code",
   "execution_count": 47,
   "metadata": {},
   "outputs": [
    {
     "data": {
      "image/png": "[encoded data removed]",
      "text/plain": [
       "<Figure size 432x288 with 1 Axes>"
      ]
     },
     "metadata": {
      "needs_background": "light"
     },
     "output_type": "display_data"
    }
   ],
   "source": [
    "Error =[]\n",
    "for i in range(1,12):\n",
    "    kmeans = KMeans(n_clusters = i).fit(x)\n",
    "    kmeans.fit(x)\n",
    "    Error.append(kmeans.inertia_)\n",
    "import matplotlib.pyplot as plt\n",
    "plt.plot(range(1,12), Error)\n",
    "plt.title('Elbow method')\n",
    "plt.xlabel('No of clusters')\n",
    "plt.ylabel('Error')\n",
    "plt.show()"
   ]
  },
  {
   "cell_type": "raw",
   "metadata": {},
   "source": [
    "pada cluster ke 3 membentuk siku, sehingga dibuat 3 cluster"
   ]
  },
  {
   "cell_type": "code",
   "execution_count": 48,
   "metadata": {},
   "outputs": [
    {
     "name": "stdout",
     "output_type": "stream",
     "text": [
      "[2 2 2 ... 1 1 1]\n"
     ]
    }
   ],
   "source": [
    "kmeans3=KMeans(n_clusters=3)\n",
    "y_kmeans3= kmeans3.fit_predict(x)\n",
    "print(y_kmeans3)\n",
    "\n",
    "centroids=kmeans3.cluster_centers_\n",
    "centroids=np.array(centroids)"
   ]
  },
  {
   "cell_type": "code",
   "execution_count": 49,
   "metadata": {
    "scrolled": false
   },
   "outputs": [
    {
     "data": {
      "text/plain": [
       "<function matplotlib.pyplot.show(*args, **kw)>"
      ]
     },
     "execution_count": 49,
     "metadata": {},
     "output_type": "execute_result"
    },
    {
     "data": {
      "image/png": "[encoded data removed]",
      "text/plain": [
       "<Figure size 432x288 with 1 Axes>"
      ]
     },
     "metadata": {
      "needs_background": "light"
     },
     "output_type": "display_data"
    }
   ],
   "source": [
    "kmeans=KMeans(n_clusters=3).fit(data1)\n",
    "data1['Cluster'] = KMeans(n_clusters=3).fit(data1).labels_\n",
    "centroids=kmeans.cluster_centers_\n",
    "centroids=np.array(centroids)\n",
    "plt.scatter(x[:,0],x[:,1],c=kmeans.labels_.astype(float),s=50,alpha=0.5)\n",
    "plt.scatter(centroids[:,0],centroids[:,1],c='red',s=50)\n",
    "plt.show"
   ]
  },
  {
   "cell_type": "raw",
   "metadata": {},
   "source": [
    "Grafik cluster antara x1 dan x2"
   ]
  },
  {
   "cell_type": "code",
   "execution_count": 50,
   "metadata": {},
   "outputs": [
    {
     "data": {
      "text/plain": [
       "array([[1.08257673e+00, 8.96191336e+02, 3.54884910e+00, 6.73497922e+02,\n",
       "        1.08257673e+00, 1.08725480e+03, 8.28636509e+01, 1.16545061e+03,\n",
       "        6.47870045e+02, 1.52751758e+01, 4.94981618e+01, 8.76291864e-01],\n",
       "       [1.94958254e+00, 1.10302242e+03, 9.68741651e+00, 9.57488192e+02,\n",
       "        1.94958254e+00, 7.75832777e+02, 1.10582538e+02, 1.48149034e+03,\n",
       "        1.03399702e+03, 1.99676050e+01, 4.79607944e+01, 1.07913322e+00],\n",
       "       [3.85650466e+00, 1.41285714e+03, 2.09859597e+01, 1.31326951e+03,\n",
       "        3.85650466e+00, 5.63904762e+02, 1.48584929e+02, 1.83047717e+03,\n",
       "        1.60372018e+03, 1.89222386e+01, 5.17827688e+01, 1.11594266e+00]])"
      ]
     },
     "execution_count": 50,
     "metadata": {},
     "output_type": "execute_result"
    }
   ],
   "source": [
    "centroids"
   ]
  },
  {
   "cell_type": "code",
   "execution_count": 51,
   "metadata": {
    "scrolled": false
   },
   "outputs": [
    {
     "name": "stdout",
     "output_type": "stream",
     "text": [
      "      Distance ke C1  Distance ke C2  Distance ke C3\n",
      "0        2229.356626     1395.170754     2894.076528\n",
      "1        2077.345422     1244.584083     2743.864388\n",
      "2        2047.927595     1207.067200     2709.385266\n",
      "3        2224.108518     1385.823053     2889.548694\n",
      "4        2137.652126     1294.229902     2799.507796\n",
      "...              ...             ...             ...\n",
      "9352      565.536907     1386.268355      293.148132\n",
      "9353      263.663981      905.969510      725.346571\n",
      "9354      774.279051     1610.188365      188.444378\n",
      "9355     1180.555978     2014.007003      502.296175\n",
      "9356      987.211201     1820.419138      330.373111\n",
      "\n",
      "[9357 rows x 3 columns]\n"
     ]
    }
   ],
   "source": [
    "dist=kmeans.fit_transform(data1)\n",
    "data4=DataFrame(dist,columns=['Distance ke C1','Distance ke C2','Distance ke C3'])\n",
    "print(data4)"
   ]
  },
  {
   "cell_type": "markdown",
   "metadata": {},
   "source": [
    "# Menentukan masuk cluster mana"
   ]
  },
  {
   "cell_type": "code",
   "execution_count": 52,
   "metadata": {},
   "outputs": [
    {
     "data": {
      "text/html": [
       "<div>\n",
       "<style scoped>\n",
       "    .dataframe tbody tr th:only-of-type {\n",
       "        vertical-align: middle;\n",
       "    }\n",
       "\n",
       "    .dataframe tbody tr th {\n",
       "        vertical-align: top;\n",
       "    }\n",
       "\n",
       "    .dataframe thead th {\n",
       "        text-align: right;\n",
       "    }\n",
       "</style>\n",
       "<table border=\"1\" class=\"dataframe\">\n",
       "  <thead>\n",
       "    <tr style=\"text-align: right;\">\n",
       "      <th></th>\n",
       "      <th>CO_GT</th>\n",
       "      <th>PT08_S1_CO</th>\n",
       "      <th>C6H6_GT</th>\n",
       "      <th>PT08_S2_NMHC</th>\n",
       "      <th>Nox_GT</th>\n",
       "      <th>PT08_S3_Nox</th>\n",
       "      <th>NO2_GT</th>\n",
       "      <th>PT08_S4_NO2</th>\n",
       "      <th>PT08_S5_O3</th>\n",
       "      <th>T</th>\n",
       "      <th>RH</th>\n",
       "      <th>AH</th>\n",
       "      <th>Cluster</th>\n",
       "      <th>Distance ke C1</th>\n",
       "      <th>Distance ke C2</th>\n",
       "      <th>Distance ke C3</th>\n",
       "    </tr>\n",
       "  </thead>\n",
       "  <tbody>\n",
       "    <tr>\n",
       "      <td>0</td>\n",
       "      <td>11.90</td>\n",
       "      <td>2008.0</td>\n",
       "      <td>50.6</td>\n",
       "      <td>1980.0</td>\n",
       "      <td>11.90</td>\n",
       "      <td>325.0</td>\n",
       "      <td>220.0</td>\n",
       "      <td>2562.0</td>\n",
       "      <td>2342.0</td>\n",
       "      <td>12.4</td>\n",
       "      <td>74.7</td>\n",
       "      <td>1.0741</td>\n",
       "      <td>2</td>\n",
       "      <td>2229.356626</td>\n",
       "      <td>1395.170754</td>\n",
       "      <td>2894.076528</td>\n",
       "    </tr>\n",
       "    <tr>\n",
       "      <td>1</td>\n",
       "      <td>11.50</td>\n",
       "      <td>1918.0</td>\n",
       "      <td>49.4</td>\n",
       "      <td>1958.0</td>\n",
       "      <td>11.50</td>\n",
       "      <td>335.0</td>\n",
       "      <td>190.0</td>\n",
       "      <td>2477.0</td>\n",
       "      <td>2237.0</td>\n",
       "      <td>11.5</td>\n",
       "      <td>76.2</td>\n",
       "      <td>1.0324</td>\n",
       "      <td>2</td>\n",
       "      <td>2077.345422</td>\n",
       "      <td>1244.584083</td>\n",
       "      <td>2743.864388</td>\n",
       "    </tr>\n",
       "    <tr>\n",
       "      <td>2</td>\n",
       "      <td>10.20</td>\n",
       "      <td>1802.0</td>\n",
       "      <td>47.7</td>\n",
       "      <td>1924.0</td>\n",
       "      <td>10.20</td>\n",
       "      <td>356.0</td>\n",
       "      <td>192.0</td>\n",
       "      <td>2235.0</td>\n",
       "      <td>2452.0</td>\n",
       "      <td>13.7</td>\n",
       "      <td>52.8</td>\n",
       "      <td>0.8244</td>\n",
       "      <td>2</td>\n",
       "      <td>2047.927595</td>\n",
       "      <td>1207.067200</td>\n",
       "      <td>2709.385266</td>\n",
       "    </tr>\n",
       "    <tr>\n",
       "      <td>3</td>\n",
       "      <td>10.20</td>\n",
       "      <td>1982.0</td>\n",
       "      <td>49.5</td>\n",
       "      <td>1959.0</td>\n",
       "      <td>10.20</td>\n",
       "      <td>322.0</td>\n",
       "      <td>227.0</td>\n",
       "      <td>2536.0</td>\n",
       "      <td>2386.0</td>\n",
       "      <td>13.2</td>\n",
       "      <td>72.6</td>\n",
       "      <td>1.0936</td>\n",
       "      <td>2</td>\n",
       "      <td>2224.108518</td>\n",
       "      <td>1385.823053</td>\n",
       "      <td>2889.548694</td>\n",
       "    </tr>\n",
       "    <tr>\n",
       "      <td>4</td>\n",
       "      <td>10.10</td>\n",
       "      <td>1956.0</td>\n",
       "      <td>45.2</td>\n",
       "      <td>1877.0</td>\n",
       "      <td>10.10</td>\n",
       "      <td>347.0</td>\n",
       "      <td>255.0</td>\n",
       "      <td>2338.0</td>\n",
       "      <td>2465.0</td>\n",
       "      <td>15.5</td>\n",
       "      <td>62.8</td>\n",
       "      <td>1.0979</td>\n",
       "      <td>2</td>\n",
       "      <td>2137.652126</td>\n",
       "      <td>1294.229902</td>\n",
       "      <td>2799.507796</td>\n",
       "    </tr>\n",
       "    <tr>\n",
       "      <td>...</td>\n",
       "      <td>...</td>\n",
       "      <td>...</td>\n",
       "      <td>...</td>\n",
       "      <td>...</td>\n",
       "      <td>...</td>\n",
       "      <td>...</td>\n",
       "      <td>...</td>\n",
       "      <td>...</td>\n",
       "      <td>...</td>\n",
       "      <td>...</td>\n",
       "      <td>...</td>\n",
       "      <td>...</td>\n",
       "      <td>...</td>\n",
       "      <td>...</td>\n",
       "      <td>...</td>\n",
       "      <td>...</td>\n",
       "    </tr>\n",
       "    <tr>\n",
       "      <td>9352</td>\n",
       "      <td>2.40</td>\n",
       "      <td>993.0</td>\n",
       "      <td>2.3</td>\n",
       "      <td>604.0</td>\n",
       "      <td>2.40</td>\n",
       "      <td>848.0</td>\n",
       "      <td>65.0</td>\n",
       "      <td>1160.0</td>\n",
       "      <td>762.0</td>\n",
       "      <td>14.5</td>\n",
       "      <td>66.4</td>\n",
       "      <td>1.0919</td>\n",
       "      <td>0</td>\n",
       "      <td>565.536907</td>\n",
       "      <td>1386.268355</td>\n",
       "      <td>293.148132</td>\n",
       "    </tr>\n",
       "    <tr>\n",
       "      <td>9353</td>\n",
       "      <td>1.90</td>\n",
       "      <td>1122.0</td>\n",
       "      <td>6.0</td>\n",
       "      <td>811.0</td>\n",
       "      <td>1.90</td>\n",
       "      <td>641.0</td>\n",
       "      <td>92.0</td>\n",
       "      <td>1336.0</td>\n",
       "      <td>1122.0</td>\n",
       "      <td>16.2</td>\n",
       "      <td>71.2</td>\n",
       "      <td>1.3013</td>\n",
       "      <td>1</td>\n",
       "      <td>263.663981</td>\n",
       "      <td>905.969510</td>\n",
       "      <td>725.346571</td>\n",
       "    </tr>\n",
       "    <tr>\n",
       "      <td>9354</td>\n",
       "      <td>2.40</td>\n",
       "      <td>883.0</td>\n",
       "      <td>1.3</td>\n",
       "      <td>530.0</td>\n",
       "      <td>2.40</td>\n",
       "      <td>997.0</td>\n",
       "      <td>46.0</td>\n",
       "      <td>1102.0</td>\n",
       "      <td>617.0</td>\n",
       "      <td>13.7</td>\n",
       "      <td>68.2</td>\n",
       "      <td>1.0611</td>\n",
       "      <td>0</td>\n",
       "      <td>774.279051</td>\n",
       "      <td>1610.188365</td>\n",
       "      <td>188.444378</td>\n",
       "    </tr>\n",
       "    <tr>\n",
       "      <td>9355</td>\n",
       "      <td>1.10</td>\n",
       "      <td>818.0</td>\n",
       "      <td>0.8</td>\n",
       "      <td>473.0</td>\n",
       "      <td>1.10</td>\n",
       "      <td>1257.0</td>\n",
       "      <td>41.0</td>\n",
       "      <td>898.0</td>\n",
       "      <td>323.0</td>\n",
       "      <td>13.7</td>\n",
       "      <td>48.8</td>\n",
       "      <td>0.7606</td>\n",
       "      <td>0</td>\n",
       "      <td>1180.555978</td>\n",
       "      <td>2014.007003</td>\n",
       "      <td>502.296175</td>\n",
       "    </tr>\n",
       "    <tr>\n",
       "      <td>9356</td>\n",
       "      <td>2.15</td>\n",
       "      <td>864.0</td>\n",
       "      <td>0.8</td>\n",
       "      <td>478.0</td>\n",
       "      <td>2.15</td>\n",
       "      <td>1116.0</td>\n",
       "      <td>43.0</td>\n",
       "      <td>958.0</td>\n",
       "      <td>489.0</td>\n",
       "      <td>11.8</td>\n",
       "      <td>56.0</td>\n",
       "      <td>0.7743</td>\n",
       "      <td>0</td>\n",
       "      <td>987.211201</td>\n",
       "      <td>1820.419138</td>\n",
       "      <td>330.373111</td>\n",
       "    </tr>\n",
       "  </tbody>\n",
       "</table>\n",
       "<p>9357 rows × 16 columns</p>\n",
       "</div>"
      ],
      "text/plain": [
       "      CO_GT  PT08_S1_CO  C6H6_GT  PT08_S2_NMHC  Nox_GT  PT08_S3_Nox  NO2_GT  \\\n",
       "0     11.90      2008.0     50.6        1980.0   11.90        325.0   220.0   \n",
       "1     11.50      1918.0     49.4        1958.0   11.50        335.0   190.0   \n",
       "2     10.20      1802.0     47.7        1924.0   10.20        356.0   192.0   \n",
       "3     10.20      1982.0     49.5        1959.0   10.20        322.0   227.0   \n",
       "4     10.10      1956.0     45.2        1877.0   10.10        347.0   255.0   \n",
       "...     ...         ...      ...           ...     ...          ...     ...   \n",
       "9352   2.40       993.0      2.3         604.0    2.40        848.0    65.0   \n",
       "9353   1.90      1122.0      6.0         811.0    1.90        641.0    92.0   \n",
       "9354   2.40       883.0      1.3         530.0    2.40        997.0    46.0   \n",
       "9355   1.10       818.0      0.8         473.0    1.10       1257.0    41.0   \n",
       "9356   2.15       864.0      0.8         478.0    2.15       1116.0    43.0   \n",
       "\n",
       "      PT08_S4_NO2  PT08_S5_O3     T    RH      AH  Cluster  Distance ke C1  \\\n",
       "0          2562.0      2342.0  12.4  74.7  1.0741        2     2229.356626   \n",
       "1          2477.0      2237.0  11.5  76.2  1.0324        2     2077.345422   \n",
       "2          2235.0      2452.0  13.7  52.8  0.8244        2     2047.927595   \n",
       "3          2536.0      2386.0  13.2  72.6  1.0936        2     2224.108518   \n",
       "4          2338.0      2465.0  15.5  62.8  1.0979        2     2137.652126   \n",
       "...           ...         ...   ...   ...     ...      ...             ...   \n",
       "9352       1160.0       762.0  14.5  66.4  1.0919        0      565.536907   \n",
       "9353       1336.0      1122.0  16.2  71.2  1.3013        1      263.663981   \n",
       "9354       1102.0       617.0  13.7  68.2  1.0611        0      774.279051   \n",
       "9355        898.0       323.0  13.7  48.8  0.7606        0     1180.555978   \n",
       "9356        958.0       489.0  11.8  56.0  0.7743        0      987.211201   \n",
       "\n",
       "      Distance ke C2  Distance ke C3  \n",
       "0        1395.170754     2894.076528  \n",
       "1        1244.584083     2743.864388  \n",
       "2        1207.067200     2709.385266  \n",
       "3        1385.823053     2889.548694  \n",
       "4        1294.229902     2799.507796  \n",
       "...              ...             ...  \n",
       "9352     1386.268355      293.148132  \n",
       "9353      905.969510      725.346571  \n",
       "9354     1610.188365      188.444378  \n",
       "9355     2014.007003      502.296175  \n",
       "9356     1820.419138      330.373111  \n",
       "\n",
       "[9357 rows x 16 columns]"
      ]
     },
     "execution_count": 52,
     "metadata": {},
     "output_type": "execute_result"
    }
   ],
   "source": [
    "result=data1.join(data4)\n",
    "result"
   ]
  },
  {
   "cell_type": "code",
   "execution_count": 53,
   "metadata": {
    "scrolled": false
   },
   "outputs": [
    {
     "data": {
      "text/plain": [
       "<matplotlib.collections.PathCollection at 0x1c816e06048>"
      ]
     },
     "execution_count": 53,
     "metadata": {},
     "output_type": "execute_result"
    },
    {
     "data": {
      "image/png": "[encoded data removed]",
      "text/plain": [
       "<Figure size 432x288 with 1 Axes>"
      ]
     },
     "metadata": {
      "needs_background": "light"
     },
     "output_type": "display_data"
    }
   ],
   "source": [
    "plt.scatter(x[:,0],x[:,1],c=y_kmeans3,cmap='rainbow')"
   ]
  },
  {
   "cell_type": "markdown",
   "metadata": {},
   "source": [
    "# Principal Component Analysis"
   ]
  },
  {
   "cell_type": "code",
   "execution_count": 46,
   "metadata": {},
   "outputs": [],
   "source": [
    "from sklearn.preprocessing import StandardScaler\n",
    "X_std=StandardScaler().fit_transform(data1)"
   ]
  },
  {
   "cell_type": "code",
   "execution_count": 47,
   "metadata": {
    "scrolled": false
   },
   "outputs": [
    {
     "name": "stdout",
     "output_type": "stream",
     "text": [
      "Eigenvectors \n",
      "[[-3.41386052e-01  1.22234372e-01 -6.54299055e-03 -4.58782040e-01\n",
      "   3.20770888e-01  2.23287902e-01  4.59418317e-02 -9.70610754e-03\n",
      "   7.07106781e-01 -5.41984734e-02  9.68428633e-03 -1.72640883e-03]\n",
      " [-3.57823809e-01  4.14542061e-02  7.62867167e-02  7.98074318e-02\n",
      "  -2.52772183e-01 -1.08202585e-01  5.49571880e-01 -6.22905419e-01\n",
      "   3.63715499e-15  2.99088716e-01  1.43397100e-02  5.24700452e-02]\n",
      " [-3.63969000e-01 -5.22611364e-02 -5.56942927e-02 -8.94010824e-02\n",
      "  -3.12979919e-01 -3.55265235e-02 -3.86408385e-01  1.96518267e-01\n",
      "  -8.17681001e-15  4.70498995e-01 -5.85098324e-01  5.33117997e-02]\n",
      " [-3.68198805e-01 -6.84596609e-02 -7.66870871e-02  3.34324420e-02\n",
      "  -2.62512887e-01  3.49998097e-03 -3.30858045e-01  1.16455607e-01\n",
      "   1.07359421e-14  1.93773185e-01  7.79757294e-01 -1.23371690e-01]\n",
      " [-3.41386052e-01  1.22234372e-01 -6.54299055e-03 -4.58782040e-01\n",
      "   3.20770888e-01  2.23287902e-01  4.59418317e-02 -9.70610754e-03\n",
      "  -7.07106781e-01 -5.41984734e-02  9.68428633e-03 -1.72640883e-03]\n",
      " [ 3.15714945e-01  1.11486860e-02 -4.43125479e-02 -6.38833360e-01\n",
      "  -1.72306155e-01 -5.78709640e-01  1.96107626e-01  1.75291199e-01\n",
      "   1.89005964e-15  2.02608399e-01  1.23591276e-01 -4.86671825e-03]\n",
      " [-2.48785844e-01  3.36302262e-01 -2.62812384e-01  2.83357480e-01\n",
      "   4.77633998e-01 -6.43875305e-01 -1.67278764e-01 -5.90598709e-02\n",
      "  -3.06140900e-16 -2.70784904e-03 -1.84525165e-02  3.34194005e-02]\n",
      " [-2.78067933e-01 -3.85229124e-01  1.33077358e-01 -1.61639836e-01\n",
      "  -2.45409994e-01 -3.14968890e-01 -2.11585188e-01 -2.20738720e-01\n",
      "  -2.65103629e-15 -6.75952007e-01 -9.86484551e-02  1.04267694e-01]\n",
      " [-3.52835037e-01  1.07419479e-01  5.24932606e-02  1.97137043e-01\n",
      "  -1.77451789e-01 -7.24465617e-02  5.25185641e-01  6.67951904e-01\n",
      "  -2.20456719e-15 -2.39934101e-01 -4.69979792e-02 -6.20919351e-02]\n",
      " [-5.33506721e-02 -5.95107351e-01 -2.75841652e-01  2.97696968e-02\n",
      "   2.41323043e-01 -5.55754015e-02  1.45445596e-01 -8.47140689e-03\n",
      "  -1.82533178e-15  1.04023921e-01 -9.49550533e-02 -6.80908977e-01]\n",
      " [-1.20143891e-02  2.13845123e-01  8.12303647e-01  1.64086783e-02\n",
      "   7.17557446e-02 -1.40920277e-01 -1.41835881e-01 -2.12768981e-02\n",
      "  -1.08087077e-15  5.86024898e-02 -3.26364838e-02 -4.93905386e-01]\n",
      " [-6.67394550e-02 -5.36595463e-01  3.97098278e-01  9.49374469e-02\n",
      "   3.87974619e-01 -1.02085898e-01  8.16730422e-02  1.73188371e-01\n",
      "   2.39715401e-15  2.75611007e-01  1.07740837e-01  5.05698472e-01]]\n",
      "\n",
      "Eigenvalues \n",
      "[6.87556973e+00 2.36423020e+00 1.32371051e+00 5.45866244e-01\n",
      " 3.67951229e-01 2.03024811e-01 1.17853990e-01 9.67724922e-02\n",
      " 5.50548876e-16 5.91557972e-02 9.96852380e-03 3.58964678e-02]\n"
     ]
    }
   ],
   "source": [
    "cor_mat1=np.corrcoef(X_std.T) #digunakan matriks korelasi\n",
    "eig_vals,eig_vecs=np.linalg.eig(cor_mat1)\n",
    "print('Eigenvectors \\n%s' %eig_vecs)\n",
    "print('\\nEigenvalues \\n%s' %eig_vals)"
   ]
  },
  {
   "cell_type": "code",
   "execution_count": 48,
   "metadata": {
    "scrolled": true
   },
   "outputs": [
    {
     "name": "stdout",
     "output_type": "stream",
     "text": [
      "Eigenvalues in descending order:\n",
      "6.875569731625943\n",
      "2.3642302049751986\n",
      "1.3237105095304353\n",
      "0.5458662440092289\n",
      "0.3679512285037035\n",
      "0.20302481073070724\n",
      "0.1178539896201221\n",
      "0.09677249222315815\n",
      "0.05915579718447464\n",
      "0.03589646779965218\n",
      "0.009968523797375065\n",
      "5.505488758061239e-16\n"
     ]
    }
   ],
   "source": [
    "# Make a list of (eigenvalue, eigenvector) tuples\n",
    "eig_pairs = [(np.abs(eig_vals[i]), eig_vecs[:,i]) for i in range(len(eig_vals))]\n",
    "\n",
    "# Sort the (eigenvalue, eigenvector) tuples from high to low\n",
    "eig_pairs.sort()\n",
    "eig_pairs.reverse()\n",
    "\n",
    "# Visually confirm that the list is correctly sorted by decreasing eigenvalues\n",
    "print('Eigenvalues in descending order:')\n",
    "for i in eig_pairs:\n",
    "    print(i[0])"
   ]
  },
  {
   "cell_type": "code",
   "execution_count": 51,
   "metadata": {
    "scrolled": true
   },
   "outputs": [
    {
     "data": {
      "text/plain": [
       "[<matplotlib.lines.Line2D at 0x18bdb96f508>]"
      ]
     },
     "execution_count": 51,
     "metadata": {},
     "output_type": "execute_result"
    },
    {
     "data": {
      "image/png": "[encoded data removed]",
      "text/plain": [
       "<Figure size 432x288 with 1 Axes>"
      ]
     },
     "metadata": {
      "needs_background": "light"
     },
     "output_type": "display_data"
    }
   ],
   "source": [
    "num_vars=12\n",
    "sing_vals = np.arange(num_vars) + 1\n",
    "plt.plot(sing_vals,eig_vals, 'ro-', linewidth=2)"
   ]
  },
  {
   "cell_type": "code",
   "execution_count": 52,
   "metadata": {
    "scrolled": true
   },
   "outputs": [
    {
     "data": {
      "text/plain": [
       "array([ 57.29641443,  76.99833281,  88.02925372,  92.57813908,\n",
       "        95.64439932,  97.33627274,  98.31838932,  99.12482676,\n",
       "        99.61779174,  99.91692897, 100.        , 100.        ])"
      ]
     },
     "execution_count": 52,
     "metadata": {},
     "output_type": "execute_result"
    }
   ],
   "source": [
    "tot = sum(eig_vals)\n",
    "var_exp = [(i / tot)*100 for i in sorted(eig_vals, reverse=True)]\n",
    "cum_var_exp = np.cumsum(var_exp)\n",
    "cum_var_exp"
   ]
  },
  {
   "cell_type": "code",
   "execution_count": 53,
   "metadata": {},
   "outputs": [
    {
     "data": {
      "text/plain": [
       "array([[ 2235.68855789,  -184.3888695 ,   238.70138979],\n",
       "       [ 2088.43954719,  -172.37451942,   189.05618781],\n",
       "       [ 2053.53899599,   118.25615927,   285.0534923 ],\n",
       "       ...,\n",
       "       [ -717.57619742,    65.62795722,   -61.66641377],\n",
       "       [-1129.14737598,    40.45178035,    29.14745088],\n",
       "       [ -931.79620901,   102.11604245,   -16.12057903]])"
      ]
     },
     "execution_count": 53,
     "metadata": {},
     "output_type": "execute_result"
    }
   ],
   "source": [
    "from sklearn.decomposition import PCA\n",
    "model=PCA(n_components=3)\n",
    "model.fit(data1)\n",
    "x_red=model.transform(data1)\n",
    "x_red"
   ]
  },
  {
   "cell_type": "code",
   "execution_count": 54,
   "metadata": {},
   "outputs": [
    {
     "data": {
      "text/plain": [
       "array([370370.59685947,  62599.77048119,  18766.66826537])"
      ]
     },
     "execution_count": 54,
     "metadata": {},
     "output_type": "execute_result"
    }
   ],
   "source": [
    "model.explained_variance_"
   ]
  },
  {
   "cell_type": "code",
   "execution_count": 55,
   "metadata": {},
   "outputs": [
    {
     "data": {
      "text/plain": [
       "array([0.79637684, 0.13460304, 0.04035239])"
      ]
     },
     "execution_count": 55,
     "metadata": {},
     "output_type": "execute_result"
    }
   ],
   "source": [
    "model.explained_variance_ratio_"
   ]
  },
  {
   "cell_type": "code",
   "execution_count": 56,
   "metadata": {},
   "outputs": [
    {
     "data": {
      "text/plain": [
       "array([[ 1.81753629e-03,  6.91874431e-04,  1.41936671e-03],\n",
       "       [ 3.34033648e-01,  8.42545725e-02,  1.24538751e-01],\n",
       "       [ 1.14525159e-02, -1.79559864e-03,  3.69041726e-03],\n",
       "       [ 4.20041189e-01, -4.98405651e-02, -1.86850843e-02],\n",
       "       [ 1.81753629e-03,  6.91874431e-04,  1.41936671e-03],\n",
       "       [-3.54319429e-01, -2.28735413e-01,  8.87957120e-01],\n",
       "       [ 4.25580449e-02,  9.90518682e-02,  5.25623080e-03],\n",
       "       [ 4.46081363e-01, -8.46510255e-01,  1.44221656e-02],\n",
       "       [ 6.20884121e-01,  4.59362086e-01,  4.41616629e-01],\n",
       "       [ 2.76606010e-03, -2.39010159e-02, -1.64326699e-02],\n",
       "       [ 1.53445952e-03,  1.07800595e-02,  1.11349775e-02],\n",
       "       [ 1.72961952e-04, -1.06581680e-03, -7.59633651e-04]])"
      ]
     },
     "execution_count": 56,
     "metadata": {},
     "output_type": "execute_result"
    }
   ],
   "source": [
    "np.transpose(model.components_)"
   ]
  },
  {
   "cell_type": "code",
   "execution_count": 57,
   "metadata": {},
   "outputs": [],
   "source": [
    "pca=PCA()  \n",
    "pca.n_components=3\n",
    "pca_data=pca.fit_transform(data1)\n",
    "percentage_var_explained = pca.explained_variance_ratio_;  \n",
    "cum_var_explained=np.cumsum(percentage_var_explained)"
   ]
  },
  {
   "cell_type": "code",
   "execution_count": 58,
   "metadata": {
    "scrolled": true
   },
   "outputs": [
    {
     "data": {
      "text/html": [
       "<div>\n",
       "<style scoped>\n",
       "    .dataframe tbody tr th:only-of-type {\n",
       "        vertical-align: middle;\n",
       "    }\n",
       "\n",
       "    .dataframe tbody tr th {\n",
       "        vertical-align: top;\n",
       "    }\n",
       "\n",
       "    .dataframe thead th {\n",
       "        text-align: right;\n",
       "    }\n",
       "</style>\n",
       "<table border=\"1\" class=\"dataframe\">\n",
       "  <thead>\n",
       "    <tr style=\"text-align: right;\">\n",
       "      <th></th>\n",
       "      <th>PC1</th>\n",
       "      <th>PC2</th>\n",
       "      <th>PC3</th>\n",
       "    </tr>\n",
       "  </thead>\n",
       "  <tbody>\n",
       "    <tr>\n",
       "      <td>0</td>\n",
       "      <td>0.001818</td>\n",
       "      <td>0.000692</td>\n",
       "      <td>0.001419</td>\n",
       "    </tr>\n",
       "    <tr>\n",
       "      <td>1</td>\n",
       "      <td>0.334034</td>\n",
       "      <td>0.084255</td>\n",
       "      <td>0.124539</td>\n",
       "    </tr>\n",
       "    <tr>\n",
       "      <td>2</td>\n",
       "      <td>0.011453</td>\n",
       "      <td>-0.001796</td>\n",
       "      <td>0.003690</td>\n",
       "    </tr>\n",
       "    <tr>\n",
       "      <td>3</td>\n",
       "      <td>0.420041</td>\n",
       "      <td>-0.049841</td>\n",
       "      <td>-0.018685</td>\n",
       "    </tr>\n",
       "    <tr>\n",
       "      <td>4</td>\n",
       "      <td>0.001818</td>\n",
       "      <td>0.000692</td>\n",
       "      <td>0.001419</td>\n",
       "    </tr>\n",
       "    <tr>\n",
       "      <td>5</td>\n",
       "      <td>-0.354319</td>\n",
       "      <td>-0.228735</td>\n",
       "      <td>0.887957</td>\n",
       "    </tr>\n",
       "    <tr>\n",
       "      <td>6</td>\n",
       "      <td>0.042558</td>\n",
       "      <td>0.099052</td>\n",
       "      <td>0.005256</td>\n",
       "    </tr>\n",
       "    <tr>\n",
       "      <td>7</td>\n",
       "      <td>0.446081</td>\n",
       "      <td>-0.846510</td>\n",
       "      <td>0.014422</td>\n",
       "    </tr>\n",
       "    <tr>\n",
       "      <td>8</td>\n",
       "      <td>0.620884</td>\n",
       "      <td>0.459362</td>\n",
       "      <td>0.441617</td>\n",
       "    </tr>\n",
       "    <tr>\n",
       "      <td>9</td>\n",
       "      <td>0.002766</td>\n",
       "      <td>-0.023901</td>\n",
       "      <td>-0.016433</td>\n",
       "    </tr>\n",
       "    <tr>\n",
       "      <td>10</td>\n",
       "      <td>0.001534</td>\n",
       "      <td>0.010780</td>\n",
       "      <td>0.011135</td>\n",
       "    </tr>\n",
       "    <tr>\n",
       "      <td>11</td>\n",
       "      <td>0.000173</td>\n",
       "      <td>-0.001066</td>\n",
       "      <td>-0.000760</td>\n",
       "    </tr>\n",
       "  </tbody>\n",
       "</table>\n",
       "</div>"
      ],
      "text/plain": [
       "         PC1       PC2       PC3\n",
       "0   0.001818  0.000692  0.001419\n",
       "1   0.334034  0.084255  0.124539\n",
       "2   0.011453 -0.001796  0.003690\n",
       "3   0.420041 -0.049841 -0.018685\n",
       "4   0.001818  0.000692  0.001419\n",
       "5  -0.354319 -0.228735  0.887957\n",
       "6   0.042558  0.099052  0.005256\n",
       "7   0.446081 -0.846510  0.014422\n",
       "8   0.620884  0.459362  0.441617\n",
       "9   0.002766 -0.023901 -0.016433\n",
       "10  0.001534  0.010780  0.011135\n",
       "11  0.000173 -0.001066 -0.000760"
      ]
     },
     "execution_count": 58,
     "metadata": {},
     "output_type": "execute_result"
    }
   ],
   "source": [
    "a=pd.DataFrame(np.transpose(model.components_))\n",
    "a.columns=['PC1','PC2','PC3']\n",
    "a"
   ]
  },
  {
   "cell_type": "code",
   "execution_count": 59,
   "metadata": {},
   "outputs": [
    {
     "data": {
      "text/plain": [
       "array([0.79637684, 0.93097988, 0.97133227])"
      ]
     },
     "execution_count": 59,
     "metadata": {},
     "output_type": "execute_result"
    }
   ],
   "source": [
    "cum_var_explained"
   ]
  },
  {
   "cell_type": "code",
   "execution_count": 60,
   "metadata": {},
   "outputs": [
    {
     "data": {
      "text/plain": [
       "array([0.79637684, 0.13460304, 0.04035239])"
      ]
     },
     "execution_count": 60,
     "metadata": {},
     "output_type": "execute_result"
    }
   ],
   "source": [
    "percentage_var_explained"
   ]
  },
  {
   "cell_type": "code",
   "execution_count": 61,
   "metadata": {},
   "outputs": [],
   "source": [
    "df = pd.DataFrame({'var':pca.explained_variance_ratio_,\n",
    "             'PC':['PC1','PC2','PC3']})"
   ]
  },
  {
   "cell_type": "code",
   "execution_count": 62,
   "metadata": {
    "scrolled": true
   },
   "outputs": [
    {
     "data": {
      "image/png": "[encoded data removed]",
      "text/plain": [
       "<Figure size 432x288 with 1 Axes>"
      ]
     },
     "metadata": {
      "needs_background": "light"
     },
     "output_type": "display_data"
    }
   ],
   "source": [
    "sns.barplot(x='PC',y=\"var\",data=df, color=\"c\");"
   ]
  },
  {
   "cell_type": "code",
   "execution_count": 66,
   "metadata": {
    "scrolled": true
   },
   "outputs": [
    {
     "data": {
      "image/png": "[encoded data removed]",
      "text/plain": [
       "<Figure size 432x288 with 1 Axes>"
      ]
     },
     "metadata": {
      "needs_background": "light"
     },
     "output_type": "display_data"
    }
   ],
   "source": [
    "plt.plot(np.cumsum(model.explained_variance_ratio_))\n",
    "plt.xlabel('number of components')\n",
    "plt.ylabel('cumulative explained variance')\n",
    "plt.show()"
   ]
  },
  {
   "cell_type": "code",
   "execution_count": null,
   "metadata": {},
   "outputs": [],
   "source": []
  },
  {
   "cell_type": "code",
   "execution_count": null,
   "metadata": {},
   "outputs": [],
   "source": []
  }
 ],
 "metadata": {
  "kernelspec": {
   "display_name": "Python 3",
   "language": "python",
   "name": "python3"
  },
  "language_info": {
   "codemirror_mode": {
    "name": "ipython",
    "version": 3
   },
   "file_extension": ".py",
   "mimetype": "text/x-python",
   "name": "python",
   "nbconvert_exporter": "python",
   "pygments_lexer": "ipython3",
   "version": "3.7.4"
  }
 },
 "nbformat": 4,
 "nbformat_minor": 2
}
