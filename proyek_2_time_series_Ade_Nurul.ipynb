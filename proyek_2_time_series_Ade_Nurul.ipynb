{
  "nbformat": 4,
  "nbformat_minor": 0,
  "metadata": {
    "colab": {
      "name": "proyek 2 time series_Ade Nurul.ipynb",
      "provenance": [],
      "collapsed_sections": [],
      "authorship_tag": "ABX9TyOEeZNGEqZbkrJiz/FndTt7",
      "include_colab_link": true
    },
    "kernelspec": {
      "name": "python3",
      "display_name": "Python 3"
    },
    "language_info": {
      "name": "python"
    }
  },
  "cells": [
    {
      "cell_type": "markdown",
      "metadata": {
        "id": "view-in-github",
        "colab_type": "text"
      },
      "source": [
        "<a href=\"https://colab.research.google.com/github/adefauziah/adenf/blob/master/proyek_2_time_series_Ade_Nurul.ipynb\" target=\"_parent\"><img src=\"https://colab.research.google.com/assets/colab-badge.svg\" alt=\"Open In Colab\"/></a>"
      ]
    },
    {
      "cell_type": "code",
      "metadata": {
        "id": "MqUfib3lvPBQ"
      },
      "source": [
        "import numpy as np\n",
        "import pandas as pd\n",
        "from keras.layers import Dense, LSTM\n",
        "import matplotlib.pyplot as plt\n",
        "import tensorflow as tf"
      ],
      "execution_count": null,
      "outputs": []
    },
    {
      "cell_type": "code",
      "metadata": {
        "colab": {
          "resources": {
            "http://localhost:8080/nbextensions/google.colab/files.js": {
              "data": "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",
              "ok": true,
              "headers": [
                [
                  "content-type",
                  "application/javascript"
                ]
              ],
              "status": 200,
              "status_text": "OK"
            }
          },
          "base_uri": "https://localhost:8080/",
          "height": 92
        },
        "id": "XSVKw3ouvX3Q",
        "outputId": "9424572b-6e14-4cfb-a0ac-c16d1da361ec"
      },
      "source": [
        "from google.colab import files\n",
        "\n",
        "uploaded = files.upload()\n",
        "\n",
        "for fn in uploaded.keys():\n",
        "  print('User uploaded file \"{name}\" with length {length} bytes'.format(\n",
        "      name=fn, length=len(uploaded[fn])))"
      ],
      "execution_count": null,
      "outputs": [
        {
          "output_type": "display_data",
          "data": {
            "text/html": [
              "\n",
              "     <input type=\"file\" id=\"files-11783310-f219-49f8-b103-bb17770cd75c\" name=\"files[]\" multiple disabled\n",
              "        style=\"border:none\" />\n",
              "     <output id=\"result-11783310-f219-49f8-b103-bb17770cd75c\">\n",
              "      Upload widget is only available when the cell has been executed in the\n",
              "      current browser session. Please rerun this cell to enable.\n",
              "      </output>\n",
              "      <script src=\"/nbextensions/google.colab/files.js\"></script> "
            ],
            "text/plain": [
              "<IPython.core.display.HTML object>"
            ]
          },
          "metadata": {
            "tags": []
          }
        },
        {
          "output_type": "stream",
          "text": [
            "Saving DailyDelhiClimateTrain.csv to DailyDelhiClimateTrain.csv\n",
            "User uploaded file \"DailyDelhiClimateTrain.csv\" with length 78199 bytes\n"
          ],
          "name": "stdout"
        }
      ]
    },
    {
      "cell_type": "code",
      "metadata": {
        "colab": {
          "base_uri": "https://localhost:8080/",
          "height": 424
        },
        "id": "Qv9NEjTmvexp",
        "outputId": "8edca758-8aa1-4303-9567-fd273a5a4077"
      },
      "source": [
        "import io\n",
        "data_train=pd.read_csv(io.StringIO(uploaded['DailyDelhiClimateTrain.csv'].decode('utf-8')),sep=',')\n",
        "data_train"
      ],
      "execution_count": null,
      "outputs": [
        {
          "output_type": "execute_result",
          "data": {
            "text/html": [
              "<div>\n",
              "<style scoped>\n",
              "    .dataframe tbody tr th:only-of-type {\n",
              "        vertical-align: middle;\n",
              "    }\n",
              "\n",
              "    .dataframe tbody tr th {\n",
              "        vertical-align: top;\n",
              "    }\n",
              "\n",
              "    .dataframe thead th {\n",
              "        text-align: right;\n",
              "    }\n",
              "</style>\n",
              "<table border=\"1\" class=\"dataframe\">\n",
              "  <thead>\n",
              "    <tr style=\"text-align: right;\">\n",
              "      <th></th>\n",
              "      <th>date</th>\n",
              "      <th>meantemp</th>\n",
              "      <th>humidity</th>\n",
              "      <th>wind_speed</th>\n",
              "      <th>meanpressure</th>\n",
              "    </tr>\n",
              "  </thead>\n",
              "  <tbody>\n",
              "    <tr>\n",
              "      <th>0</th>\n",
              "      <td>2013-01-01</td>\n",
              "      <td>10.000000</td>\n",
              "      <td>84.500000</td>\n",
              "      <td>0.000000</td>\n",
              "      <td>1015.666667</td>\n",
              "    </tr>\n",
              "    <tr>\n",
              "      <th>1</th>\n",
              "      <td>2013-01-02</td>\n",
              "      <td>7.400000</td>\n",
              "      <td>92.000000</td>\n",
              "      <td>2.980000</td>\n",
              "      <td>1017.800000</td>\n",
              "    </tr>\n",
              "    <tr>\n",
              "      <th>2</th>\n",
              "      <td>2013-01-03</td>\n",
              "      <td>7.166667</td>\n",
              "      <td>87.000000</td>\n",
              "      <td>4.633333</td>\n",
              "      <td>1018.666667</td>\n",
              "    </tr>\n",
              "    <tr>\n",
              "      <th>3</th>\n",
              "      <td>2013-01-04</td>\n",
              "      <td>8.666667</td>\n",
              "      <td>71.333333</td>\n",
              "      <td>1.233333</td>\n",
              "      <td>1017.166667</td>\n",
              "    </tr>\n",
              "    <tr>\n",
              "      <th>4</th>\n",
              "      <td>2013-01-05</td>\n",
              "      <td>6.000000</td>\n",
              "      <td>86.833333</td>\n",
              "      <td>3.700000</td>\n",
              "      <td>1016.500000</td>\n",
              "    </tr>\n",
              "    <tr>\n",
              "      <th>...</th>\n",
              "      <td>...</td>\n",
              "      <td>...</td>\n",
              "      <td>...</td>\n",
              "      <td>...</td>\n",
              "      <td>...</td>\n",
              "    </tr>\n",
              "    <tr>\n",
              "      <th>1457</th>\n",
              "      <td>2016-12-28</td>\n",
              "      <td>17.217391</td>\n",
              "      <td>68.043478</td>\n",
              "      <td>3.547826</td>\n",
              "      <td>1015.565217</td>\n",
              "    </tr>\n",
              "    <tr>\n",
              "      <th>1458</th>\n",
              "      <td>2016-12-29</td>\n",
              "      <td>15.238095</td>\n",
              "      <td>87.857143</td>\n",
              "      <td>6.000000</td>\n",
              "      <td>1016.904762</td>\n",
              "    </tr>\n",
              "    <tr>\n",
              "      <th>1459</th>\n",
              "      <td>2016-12-30</td>\n",
              "      <td>14.095238</td>\n",
              "      <td>89.666667</td>\n",
              "      <td>6.266667</td>\n",
              "      <td>1017.904762</td>\n",
              "    </tr>\n",
              "    <tr>\n",
              "      <th>1460</th>\n",
              "      <td>2016-12-31</td>\n",
              "      <td>15.052632</td>\n",
              "      <td>87.000000</td>\n",
              "      <td>7.325000</td>\n",
              "      <td>1016.100000</td>\n",
              "    </tr>\n",
              "    <tr>\n",
              "      <th>1461</th>\n",
              "      <td>2017-01-01</td>\n",
              "      <td>10.000000</td>\n",
              "      <td>100.000000</td>\n",
              "      <td>0.000000</td>\n",
              "      <td>1016.000000</td>\n",
              "    </tr>\n",
              "  </tbody>\n",
              "</table>\n",
              "<p>1462 rows × 5 columns</p>\n",
              "</div>"
            ],
            "text/plain": [
              "            date   meantemp    humidity  wind_speed  meanpressure\n",
              "0     2013-01-01  10.000000   84.500000    0.000000   1015.666667\n",
              "1     2013-01-02   7.400000   92.000000    2.980000   1017.800000\n",
              "2     2013-01-03   7.166667   87.000000    4.633333   1018.666667\n",
              "3     2013-01-04   8.666667   71.333333    1.233333   1017.166667\n",
              "4     2013-01-05   6.000000   86.833333    3.700000   1016.500000\n",
              "...          ...        ...         ...         ...           ...\n",
              "1457  2016-12-28  17.217391   68.043478    3.547826   1015.565217\n",
              "1458  2016-12-29  15.238095   87.857143    6.000000   1016.904762\n",
              "1459  2016-12-30  14.095238   89.666667    6.266667   1017.904762\n",
              "1460  2016-12-31  15.052632   87.000000    7.325000   1016.100000\n",
              "1461  2017-01-01  10.000000  100.000000    0.000000   1016.000000\n",
              "\n",
              "[1462 rows x 5 columns]"
            ]
          },
          "metadata": {
            "tags": []
          },
          "execution_count": 3
        }
      ]
    },
    {
      "cell_type": "code",
      "metadata": {
        "colab": {
          "base_uri": "https://localhost:8080/"
        },
        "id": "e-jJ0d-pv2ED",
        "outputId": "b73d6419-e4c1-4176-fe85-e3a8ef1137ac"
      },
      "source": [
        "data_train.isnull().sum()"
      ],
      "execution_count": null,
      "outputs": [
        {
          "output_type": "execute_result",
          "data": {
            "text/plain": [
              "date            0\n",
              "meantemp        0\n",
              "humidity        0\n",
              "wind_speed      0\n",
              "meanpressure    0\n",
              "dtype: int64"
            ]
          },
          "metadata": {
            "tags": []
          },
          "execution_count": 4
        }
      ]
    },
    {
      "cell_type": "code",
      "metadata": {
        "colab": {
          "base_uri": "https://localhost:8080/",
          "height": 341
        },
        "id": "eRCCVCJhzwE0",
        "outputId": "b0c150cf-6dfe-448f-e90c-dcb80e4311b5"
      },
      "source": [
        "dates = data_train['date'].values\n",
        "temp  = data_train['meantemp'].values\n",
        "       \n",
        "plt.figure(figsize=(15,5))\n",
        "plt.plot(dates, temp)\n",
        "plt.title('Temperature average',fontsize=20);"
      ],
      "execution_count": null,
      "outputs": [
        {
          "output_type": "display_data",
          "data": {
            "image/png": "[encoded data removed]",
            "text/plain": [
              "<Figure size 1080x360 with 1 Axes>"
            ]
          },
          "metadata": {
            "tags": [],
            "needs_background": "light"
          }
        }
      ]
    },
    {
      "cell_type": "code",
      "metadata": {
        "colab": {
          "base_uri": "https://localhost:8080/"
        },
        "id": "WK0HojTA1Slr",
        "outputId": "13c19111-9d0f-40a5-b597-649b4b4cb1a5"
      },
      "source": [
        "from sklearn.model_selection import train_test_split\n",
        "X_train, X_test, y_train, y_test = train_test_split(data_train['date'],data_train['meantemp'], test_size = 0.2, shuffle = False)\n",
        "print(len(X_train),len(X_test), len(y_train), len(y_test))"
      ],
      "execution_count": null,
      "outputs": [
        {
          "output_type": "stream",
          "text": [
            "1169 293 1169 293\n"
          ],
          "name": "stdout"
        }
      ]
    },
    {
      "cell_type": "code",
      "metadata": {
        "id": "rGiUYiYIz8wO"
      },
      "source": [
        "def windowed_dataset(series, window_size, batch_size, shuffle_buffer):\n",
        "  series = tf.expand_dims(series, axis=-1)\n",
        "  ds = tf.data.Dataset.from_tensor_slices(series)\n",
        "  ds = ds.window(window_size + 1, shift=1, drop_remainder=True)\n",
        "  ds = ds.flat_map(lambda w: w.batch(window_size + 1))\n",
        "  ds = ds.shuffle(shuffle_buffer)\n",
        "  ds = ds.map(lambda w: (w[:-1], w[-1:]))\n",
        "  return ds.batch(batch_size).prefetch(1)"
      ],
      "execution_count": null,
      "outputs": []
    },
    {
      "cell_type": "code",
      "metadata": {
        "id": "MQEg9WFg0EeE"
      },
      "source": [
        "train_set = windowed_dataset(y_train, window_size=60, batch_size=100, shuffle_buffer=1000)\n",
        "val_set = windowed_dataset(y_test, window_size=60, batch_size=100, shuffle_buffer=1000)\n",
        "\n",
        "model = tf.keras.models.Sequential([\n",
        "                                    tf.keras.layers.LSTM(60, return_sequences=True),\n",
        "                                    tf.keras.layers.LSTM(60),\n",
        "                                    tf.keras.layers.Dense(30, activation=\"relu\"),\n",
        "                                    tf.keras.layers.Dense(10, activation=\"relu\"),\n",
        "                                    tf.keras.layers.Dense(1),\n",
        "                                    ])"
      ],
      "execution_count": null,
      "outputs": []
    },
    {
      "cell_type": "code",
      "metadata": {
        "id": "c3-l35k10Sp4"
      },
      "source": [
        "class myCallback(tf.keras.callbacks.Callback):\n",
        "  def on_epoch_end(self, epoch, logs={}):\n",
        "    if(logs.get('mae')<0.1):\n",
        "      print(\"\\nMAE <10%!\")\n",
        "      self.model.stop_training = True\n",
        "callbacks = myCallback()"
      ],
      "execution_count": null,
      "outputs": []
    },
    {
      "cell_type": "code",
      "metadata": {
        "colab": {
          "base_uri": "https://localhost:8080/"
        },
        "id": "aTOJB1jD0eO0",
        "outputId": "7a921384-430c-436e-b17e-6f992e70212f"
      },
      "source": [
        "optimizer = tf.keras.optimizers.SGD(lr=1.0000e-04, momentum=0.9)\n",
        "model.compile(loss=tf.keras.losses.Huber(),\n",
        "              optimizer=optimizer,\n",
        "              metrics=[\"mae\"])\n",
        "history = model.fit(train_set,epochs=100,validation_data = val_set,callbacks=[callbacks])"
      ],
      "execution_count": null,
      "outputs": [
        {
          "output_type": "stream",
          "text": [
            "/usr/local/lib/python3.7/dist-packages/tensorflow/python/keras/optimizer_v2/optimizer_v2.py:375: UserWarning: The `lr` argument is deprecated, use `learning_rate` instead.\n",
            "  \"The `lr` argument is deprecated, use `learning_rate` instead.\")\n"
          ],
          "name": "stderr"
        },
        {
          "output_type": "stream",
          "text": [
            "Epoch 1/100\n",
            "12/12 [==============================] - 5s 168ms/step - loss: 22.9959 - mae: 23.4959 - val_loss: 26.5222 - val_mae: 27.0222\n",
            "Epoch 2/100\n",
            "12/12 [==============================] - 1s 93ms/step - loss: 22.8490 - mae: 23.3490 - val_loss: 26.3246 - val_mae: 26.8246\n",
            "Epoch 3/100\n",
            "12/12 [==============================] - 1s 95ms/step - loss: 22.6282 - mae: 23.1282 - val_loss: 26.0710 - val_mae: 26.5710\n",
            "Epoch 4/100\n",
            "12/12 [==============================] - 1s 93ms/step - loss: 22.3572 - mae: 22.8572 - val_loss: 25.7675 - val_mae: 26.2675\n",
            "Epoch 5/100\n",
            "12/12 [==============================] - 1s 94ms/step - loss: 22.0375 - mae: 22.5375 - val_loss: 25.4148 - val_mae: 25.9148\n",
            "Epoch 6/100\n",
            "12/12 [==============================] - 1s 92ms/step - loss: 21.6692 - mae: 22.1692 - val_loss: 25.0104 - val_mae: 25.5104\n",
            "Epoch 7/100\n",
            "12/12 [==============================] - 1s 94ms/step - loss: 21.2418 - mae: 21.7418 - val_loss: 24.5380 - val_mae: 25.0380\n",
            "Epoch 8/100\n",
            "12/12 [==============================] - 1s 95ms/step - loss: 20.7369 - mae: 21.2370 - val_loss: 23.9755 - val_mae: 24.4755\n",
            "Epoch 9/100\n",
            "12/12 [==============================] - 1s 93ms/step - loss: 20.1312 - mae: 20.6312 - val_loss: 23.2958 - val_mae: 23.7958\n",
            "Epoch 10/100\n",
            "12/12 [==============================] - 1s 95ms/step - loss: 19.3956 - mae: 19.8956 - val_loss: 22.4654 - val_mae: 22.9654\n",
            "Epoch 11/100\n",
            "12/12 [==============================] - 1s 95ms/step - loss: 18.4907 - mae: 18.9907 - val_loss: 21.4339 - val_mae: 21.9339\n",
            "Epoch 12/100\n",
            "12/12 [==============================] - 1s 97ms/step - loss: 17.3609 - mae: 17.8609 - val_loss: 20.1375 - val_mae: 20.6375\n",
            "Epoch 13/100\n",
            "12/12 [==============================] - 1s 96ms/step - loss: 15.9299 - mae: 16.4298 - val_loss: 18.4769 - val_mae: 18.9764\n",
            "Epoch 14/100\n",
            "12/12 [==============================] - 1s 96ms/step - loss: 14.0982 - mae: 14.5961 - val_loss: 16.3334 - val_mae: 16.8334\n",
            "Epoch 15/100\n",
            "12/12 [==============================] - 1s 92ms/step - loss: 11.8336 - mae: 12.3250 - val_loss: 13.6217 - val_mae: 14.1195\n",
            "Epoch 16/100\n",
            "12/12 [==============================] - 1s 91ms/step - loss: 9.4301 - mae: 9.9197 - val_loss: 10.5692 - val_mae: 11.0601\n",
            "Epoch 17/100\n",
            "12/12 [==============================] - 1s 95ms/step - loss: 7.3335 - mae: 7.8194 - val_loss: 7.9013 - val_mae: 8.3953\n",
            "Epoch 18/100\n",
            "12/12 [==============================] - 1s 92ms/step - loss: 6.0194 - mae: 6.5097 - val_loss: 6.0445 - val_mae: 6.5331\n",
            "Epoch 19/100\n",
            "12/12 [==============================] - 1s 95ms/step - loss: 5.4579 - mae: 5.9448 - val_loss: 5.0635 - val_mae: 5.5599\n",
            "Epoch 20/100\n",
            "12/12 [==============================] - 1s 97ms/step - loss: 5.3286 - mae: 5.8173 - val_loss: 4.7360 - val_mae: 5.2258\n",
            "Epoch 21/100\n",
            "12/12 [==============================] - 1s 93ms/step - loss: 5.2875 - mae: 5.7765 - val_loss: 4.7018 - val_mae: 5.1910\n",
            "Epoch 22/100\n",
            "12/12 [==============================] - 1s 93ms/step - loss: 5.2332 - mae: 5.7223 - val_loss: 4.5341 - val_mae: 5.0207\n",
            "Epoch 23/100\n",
            "12/12 [==============================] - 1s 93ms/step - loss: 5.1663 - mae: 5.6551 - val_loss: 4.5243 - val_mae: 5.0109\n",
            "Epoch 24/100\n",
            "12/12 [==============================] - 1s 93ms/step - loss: 5.1036 - mae: 5.5916 - val_loss: 4.4704 - val_mae: 4.9572\n",
            "Epoch 25/100\n",
            "12/12 [==============================] - 1s 94ms/step - loss: 4.9875 - mae: 5.4762 - val_loss: 4.9053 - val_mae: 5.3987\n",
            "Epoch 26/100\n",
            "12/12 [==============================] - 1s 94ms/step - loss: 4.7662 - mae: 5.2530 - val_loss: 4.2760 - val_mae: 4.7677\n",
            "Epoch 27/100\n",
            "12/12 [==============================] - 1s 96ms/step - loss: 4.4608 - mae: 4.9450 - val_loss: 4.2788 - val_mae: 4.7676\n",
            "Epoch 28/100\n",
            "12/12 [==============================] - 1s 94ms/step - loss: 4.3038 - mae: 4.7888 - val_loss: 4.8055 - val_mae: 5.2905\n",
            "Epoch 29/100\n",
            "12/12 [==============================] - 1s 93ms/step - loss: 4.4048 - mae: 4.8889 - val_loss: 4.2086 - val_mae: 4.6916\n",
            "Epoch 30/100\n",
            "12/12 [==============================] - 1s 94ms/step - loss: 4.4849 - mae: 4.9717 - val_loss: 4.3452 - val_mae: 4.8370\n",
            "Epoch 31/100\n",
            "12/12 [==============================] - 1s 94ms/step - loss: 4.0638 - mae: 4.5487 - val_loss: 3.8941 - val_mae: 4.3779\n",
            "Epoch 32/100\n",
            "12/12 [==============================] - 1s 96ms/step - loss: 3.7162 - mae: 4.1956 - val_loss: 3.1782 - val_mae: 3.6609\n",
            "Epoch 33/100\n",
            "12/12 [==============================] - 1s 95ms/step - loss: 3.1513 - mae: 3.6253 - val_loss: 3.1592 - val_mae: 3.6332\n",
            "Epoch 34/100\n",
            "12/12 [==============================] - 1s 94ms/step - loss: 2.8200 - mae: 3.2866 - val_loss: 2.1933 - val_mae: 2.6554\n",
            "Epoch 35/100\n",
            "12/12 [==============================] - 1s 94ms/step - loss: 2.6034 - mae: 3.0715 - val_loss: 2.5844 - val_mae: 3.0504\n",
            "Epoch 36/100\n",
            "12/12 [==============================] - 1s 95ms/step - loss: 2.2813 - mae: 2.7449 - val_loss: 1.6496 - val_mae: 2.0962\n",
            "Epoch 37/100\n",
            "12/12 [==============================] - 1s 93ms/step - loss: 2.1350 - mae: 2.6004 - val_loss: 1.9957 - val_mae: 2.4462\n",
            "Epoch 38/100\n",
            "12/12 [==============================] - 1s 92ms/step - loss: 1.9304 - mae: 2.3842 - val_loss: 2.2874 - val_mae: 2.7444\n",
            "Epoch 39/100\n",
            "12/12 [==============================] - 1s 93ms/step - loss: 1.8088 - mae: 2.2585 - val_loss: 1.6675 - val_mae: 2.1141\n",
            "Epoch 40/100\n",
            "12/12 [==============================] - 1s 95ms/step - loss: 1.6263 - mae: 2.0756 - val_loss: 1.5644 - val_mae: 2.0152\n",
            "Epoch 41/100\n",
            "12/12 [==============================] - 1s 91ms/step - loss: 1.7430 - mae: 2.1963 - val_loss: 1.7727 - val_mae: 2.2312\n",
            "Epoch 42/100\n",
            "12/12 [==============================] - 1s 95ms/step - loss: 1.5525 - mae: 2.0025 - val_loss: 1.5147 - val_mae: 1.9500\n",
            "Epoch 43/100\n",
            "12/12 [==============================] - 1s 93ms/step - loss: 1.5275 - mae: 1.9720 - val_loss: 1.4851 - val_mae: 1.9296\n",
            "Epoch 44/100\n",
            "12/12 [==============================] - 1s 93ms/step - loss: 1.4413 - mae: 1.8836 - val_loss: 1.4121 - val_mae: 1.8555\n",
            "Epoch 45/100\n",
            "12/12 [==============================] - 1s 94ms/step - loss: 1.4365 - mae: 1.8821 - val_loss: 1.3763 - val_mae: 1.8170\n",
            "Epoch 46/100\n",
            "12/12 [==============================] - 1s 93ms/step - loss: 1.5076 - mae: 1.9488 - val_loss: 1.4733 - val_mae: 1.9154\n",
            "Epoch 47/100\n",
            "12/12 [==============================] - 1s 94ms/step - loss: 1.3556 - mae: 1.7955 - val_loss: 1.4825 - val_mae: 1.9223\n",
            "Epoch 48/100\n",
            "12/12 [==============================] - 1s 93ms/step - loss: 1.3804 - mae: 1.8214 - val_loss: 1.2932 - val_mae: 1.7335\n",
            "Epoch 49/100\n",
            "12/12 [==============================] - 1s 94ms/step - loss: 1.2861 - mae: 1.7311 - val_loss: 2.6644 - val_mae: 3.1420\n",
            "Epoch 50/100\n",
            "12/12 [==============================] - 1s 93ms/step - loss: 3.1669 - mae: 3.6429 - val_loss: 2.8079 - val_mae: 3.2674\n",
            "Epoch 51/100\n",
            "12/12 [==============================] - 1s 94ms/step - loss: 2.1464 - mae: 2.6059 - val_loss: 2.4231 - val_mae: 2.8860\n",
            "Epoch 52/100\n",
            "12/12 [==============================] - 1s 93ms/step - loss: 1.8486 - mae: 2.2997 - val_loss: 1.9092 - val_mae: 2.3653\n",
            "Epoch 53/100\n",
            "12/12 [==============================] - 1s 95ms/step - loss: 1.5219 - mae: 1.9645 - val_loss: 1.6739 - val_mae: 2.1217\n",
            "Epoch 54/100\n",
            "12/12 [==============================] - 1s 94ms/step - loss: 1.3438 - mae: 1.7801 - val_loss: 1.3789 - val_mae: 1.8117\n",
            "Epoch 55/100\n",
            "12/12 [==============================] - 1s 96ms/step - loss: 1.3539 - mae: 1.7948 - val_loss: 1.6085 - val_mae: 2.0558\n",
            "Epoch 56/100\n",
            "12/12 [==============================] - 1s 95ms/step - loss: 1.3208 - mae: 1.7583 - val_loss: 1.4416 - val_mae: 1.8781\n",
            "Epoch 57/100\n",
            "12/12 [==============================] - 1s 95ms/step - loss: 1.2731 - mae: 1.7040 - val_loss: 1.6492 - val_mae: 2.1032\n",
            "Epoch 58/100\n",
            "12/12 [==============================] - 1s 95ms/step - loss: 1.3252 - mae: 1.7610 - val_loss: 1.2629 - val_mae: 1.6968\n",
            "Epoch 59/100\n",
            "12/12 [==============================] - 1s 93ms/step - loss: 1.1979 - mae: 1.6368 - val_loss: 1.1690 - val_mae: 1.6047\n",
            "Epoch 60/100\n",
            "12/12 [==============================] - 1s 94ms/step - loss: 1.1969 - mae: 1.6281 - val_loss: 1.3506 - val_mae: 1.7921\n",
            "Epoch 61/100\n",
            "12/12 [==============================] - 1s 97ms/step - loss: 1.2507 - mae: 1.6814 - val_loss: 1.7421 - val_mae: 2.2020\n",
            "Epoch 62/100\n",
            "12/12 [==============================] - 1s 94ms/step - loss: 1.4233 - mae: 1.8715 - val_loss: 1.2410 - val_mae: 1.6779\n",
            "Epoch 63/100\n",
            "12/12 [==============================] - 1s 94ms/step - loss: 1.1530 - mae: 1.5828 - val_loss: 1.1319 - val_mae: 1.5593\n",
            "Epoch 64/100\n",
            "12/12 [==============================] - 1s 94ms/step - loss: 1.1455 - mae: 1.5725 - val_loss: 1.0935 - val_mae: 1.5200\n",
            "Epoch 65/100\n",
            "12/12 [==============================] - 1s 92ms/step - loss: 1.1303 - mae: 1.5619 - val_loss: 1.3035 - val_mae: 1.7389\n",
            "Epoch 66/100\n",
            "12/12 [==============================] - 1s 95ms/step - loss: 1.2274 - mae: 1.6618 - val_loss: 1.3280 - val_mae: 1.7652\n",
            "Epoch 67/100\n",
            "12/12 [==============================] - 1s 95ms/step - loss: 1.3175 - mae: 1.7552 - val_loss: 1.3237 - val_mae: 1.7613\n",
            "Epoch 68/100\n",
            "12/12 [==============================] - 1s 95ms/step - loss: 1.3424 - mae: 1.7773 - val_loss: 2.7572 - val_mae: 3.2376\n",
            "Epoch 69/100\n",
            "12/12 [==============================] - 1s 93ms/step - loss: 1.9245 - mae: 2.3851 - val_loss: 1.6058 - val_mae: 2.0472\n",
            "Epoch 70/100\n",
            "12/12 [==============================] - 1s 94ms/step - loss: 1.3527 - mae: 1.7869 - val_loss: 1.7097 - val_mae: 2.1723\n",
            "Epoch 71/100\n",
            "12/12 [==============================] - 1s 96ms/step - loss: 1.2719 - mae: 1.7065 - val_loss: 1.2336 - val_mae: 1.6694\n",
            "Epoch 72/100\n",
            "12/12 [==============================] - 1s 94ms/step - loss: 1.1573 - mae: 1.5878 - val_loss: 1.0991 - val_mae: 1.5298\n",
            "Epoch 73/100\n",
            "12/12 [==============================] - 1s 93ms/step - loss: 1.1127 - mae: 1.5443 - val_loss: 1.0655 - val_mae: 1.4961\n",
            "Epoch 74/100\n",
            "12/12 [==============================] - 1s 94ms/step - loss: 1.1395 - mae: 1.5710 - val_loss: 1.4216 - val_mae: 1.8718\n",
            "Epoch 75/100\n",
            "12/12 [==============================] - 1s 94ms/step - loss: 1.1579 - mae: 1.5837 - val_loss: 1.2231 - val_mae: 1.6633\n",
            "Epoch 76/100\n",
            "12/12 [==============================] - 1s 95ms/step - loss: 1.1408 - mae: 1.5693 - val_loss: 1.2236 - val_mae: 1.6568\n",
            "Epoch 77/100\n",
            "12/12 [==============================] - 1s 94ms/step - loss: 1.1090 - mae: 1.5349 - val_loss: 1.0703 - val_mae: 1.5007\n",
            "Epoch 78/100\n",
            "12/12 [==============================] - 1s 92ms/step - loss: 1.1287 - mae: 1.5614 - val_loss: 1.0912 - val_mae: 1.5233\n",
            "Epoch 79/100\n",
            "12/12 [==============================] - 1s 93ms/step - loss: 1.1120 - mae: 1.5431 - val_loss: 1.0608 - val_mae: 1.4900\n",
            "Epoch 80/100\n",
            "12/12 [==============================] - 1s 94ms/step - loss: 1.1034 - mae: 1.5272 - val_loss: 1.1339 - val_mae: 1.5603\n",
            "Epoch 81/100\n",
            "12/12 [==============================] - 1s 94ms/step - loss: 1.1260 - mae: 1.5547 - val_loss: 1.0468 - val_mae: 1.4700\n",
            "Epoch 82/100\n",
            "12/12 [==============================] - 1s 94ms/step - loss: 1.0599 - mae: 1.4852 - val_loss: 1.0234 - val_mae: 1.4484\n",
            "Epoch 83/100\n",
            "12/12 [==============================] - 1s 93ms/step - loss: 1.0583 - mae: 1.4787 - val_loss: 1.0628 - val_mae: 1.4910\n",
            "Epoch 84/100\n",
            "12/12 [==============================] - 1s 95ms/step - loss: 1.0901 - mae: 1.5159 - val_loss: 1.0435 - val_mae: 1.4679\n",
            "Epoch 85/100\n",
            "12/12 [==============================] - 1s 97ms/step - loss: 1.0552 - mae: 1.4780 - val_loss: 1.0788 - val_mae: 1.5010\n",
            "Epoch 86/100\n",
            "12/12 [==============================] - 1s 97ms/step - loss: 1.0939 - mae: 1.5239 - val_loss: 1.1771 - val_mae: 1.6159\n",
            "Epoch 87/100\n",
            "12/12 [==============================] - 1s 96ms/step - loss: 1.1284 - mae: 1.5614 - val_loss: 1.0479 - val_mae: 1.4789\n",
            "Epoch 88/100\n",
            "12/12 [==============================] - 1s 94ms/step - loss: 1.0634 - mae: 1.4890 - val_loss: 1.0174 - val_mae: 1.4477\n",
            "Epoch 89/100\n",
            "12/12 [==============================] - 1s 92ms/step - loss: 1.0414 - mae: 1.4696 - val_loss: 1.0951 - val_mae: 1.5297\n",
            "Epoch 90/100\n",
            "12/12 [==============================] - 1s 96ms/step - loss: 1.0951 - mae: 1.5182 - val_loss: 1.0177 - val_mae: 1.4462\n",
            "Epoch 91/100\n",
            "12/12 [==============================] - 1s 95ms/step - loss: 1.0598 - mae: 1.4874 - val_loss: 0.9994 - val_mae: 1.4261\n",
            "Epoch 92/100\n",
            "12/12 [==============================] - 1s 94ms/step - loss: 1.0380 - mae: 1.4623 - val_loss: 1.0127 - val_mae: 1.4364\n",
            "Epoch 93/100\n",
            "12/12 [==============================] - 1s 92ms/step - loss: 1.0423 - mae: 1.4659 - val_loss: 1.2880 - val_mae: 1.7278\n",
            "Epoch 94/100\n",
            "12/12 [==============================] - 1s 93ms/step - loss: 1.1175 - mae: 1.5489 - val_loss: 1.0652 - val_mae: 1.4916\n",
            "Epoch 95/100\n",
            "12/12 [==============================] - 1s 93ms/step - loss: 1.1238 - mae: 1.5485 - val_loss: 1.1304 - val_mae: 1.5554\n",
            "Epoch 96/100\n",
            "12/12 [==============================] - 1s 96ms/step - loss: 1.1366 - mae: 1.5697 - val_loss: 1.1707 - val_mae: 1.6051\n",
            "Epoch 97/100\n",
            "12/12 [==============================] - 1s 96ms/step - loss: 1.1262 - mae: 1.5560 - val_loss: 1.0577 - val_mae: 1.4891\n",
            "Epoch 98/100\n",
            "12/12 [==============================] - 1s 96ms/step - loss: 1.0408 - mae: 1.4618 - val_loss: 1.0120 - val_mae: 1.4373\n",
            "Epoch 99/100\n",
            "12/12 [==============================] - 1s 94ms/step - loss: 1.0391 - mae: 1.4615 - val_loss: 1.3841 - val_mae: 1.8294\n",
            "Epoch 100/100\n",
            "12/12 [==============================] - 1s 93ms/step - loss: 1.1345 - mae: 1.5635 - val_loss: 1.0496 - val_mae: 1.4785\n"
          ],
          "name": "stdout"
        }
      ]
    },
    {
      "cell_type": "code",
      "metadata": {
        "colab": {
          "base_uri": "https://localhost:8080/",
          "height": 295
        },
        "id": "V38vcCNswKWk",
        "outputId": "525c2fdb-db90-427b-d8d5-e980d1e3df7c"
      },
      "source": [
        "plt.plot(history.history['mae'])\n",
        "plt.plot(history.history['val_mae'])\n",
        "plt.title('MAE Model')\n",
        "plt.ylabel('MAE')\n",
        "plt.xlabel('epoch')\n",
        "plt.legend(['train', 'test'], loc='upper left')\n",
        "plt.show()"
      ],
      "execution_count": null,
      "outputs": [
        {
          "output_type": "display_data",
          "data": {
            "image/png": "[encoded data removed]",
            "text/plain": [
              "<Figure size 432x288 with 1 Axes>"
            ]
          },
          "metadata": {
            "tags": [],
            "needs_background": "light"
          }
        }
      ]
    },
    {
      "cell_type": "code",
      "metadata": {
        "colab": {
          "base_uri": "https://localhost:8080/",
          "height": 295
        },
        "id": "ZAYRXzoT4W4a",
        "outputId": "e6004856-84d2-46bf-879a-45f5a4cd300c"
      },
      "source": [
        "plt.plot(history.history['loss'])\n",
        "plt.plot(history.history['val_loss'])\n",
        "plt.title('Loss Model')\n",
        "plt.ylabel('Loss')\n",
        "plt.xlabel('epoch')\n",
        "plt.legend(['train', 'test'], loc='upper left')\n",
        "plt.show()"
      ],
      "execution_count": null,
      "outputs": [
        {
          "output_type": "display_data",
          "data": {
            "image/png": "[encoded data removed]",
            "text/plain": [
              "<Figure size 432x288 with 1 Axes>"
            ]
          },
          "metadata": {
            "tags": [],
            "needs_background": "light"
          }
        }
      ]
    }
  ]
}