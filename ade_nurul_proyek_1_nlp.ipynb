{
  "nbformat": 4,
  "nbformat_minor": 0,
  "metadata": {
    "colab": {
      "name": "ade nurul_proyek 1 nlp.ipynb",
      "provenance": [],
      "authorship_tag": "ABX9TyOhuNsu1CYYy0GeFjfcqZAR",
      "include_colab_link": true
    },
    "kernelspec": {
      "name": "python3",
      "display_name": "Python 3"
    },
    "language_info": {
      "name": "python"
    }
  },
  "cells": [
    {
      "cell_type": "markdown",
      "metadata": {
        "id": "view-in-github",
        "colab_type": "text"
      },
      "source": [
        "<a href=\"https://colab.research.google.com/github/adefauziah/adenf/blob/master/ade_nurul_proyek_1_nlp.ipynb\" target=\"_parent\"><img src=\"https://colab.research.google.com/assets/colab-badge.svg\" alt=\"Open In Colab\"/></a>"
      ]
    },
    {
      "cell_type": "code",
      "metadata": {
        "id": "XRmsGRYOtnUW"
      },
      "source": [
        "import pandas as pd"
      ],
      "execution_count": null,
      "outputs": []
    },
    {
      "cell_type": "code",
      "metadata": {
        "colab": {
          "resources": {
            "http://localhost:8080/nbextensions/google.colab/files.js": {
              "data": "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",
              "ok": true,
              "headers": [
                [
                  "content-type",
                  "application/javascript"
                ]
              ],
              "status": 200,
              "status_text": "OK"
            }
          },
          "base_uri": "https://localhost:8080/",
          "height": 92
        },
        "id": "6ty9SK7Yt2lY",
        "outputId": "6b66f558-de75-4458-9162-46030c1bfdc1"
      },
      "source": [
        "from google.colab import files\n",
        "\n",
        "uploaded = files.upload()\n",
        "\n",
        "for fn in uploaded.keys():\n",
        "  print('User uploaded file \"{name}\" with length {length} bytes'.format(\n",
        "      name=fn, length=len(uploaded[fn])))"
      ],
      "execution_count": null,
      "outputs": [
        {
          "output_type": "display_data",
          "data": {
            "text/html": [
              "\n",
              "     <input type=\"file\" id=\"files-7f257f67-9bf7-4ab0-ab82-10f08ddb9e81\" name=\"files[]\" multiple disabled\n",
              "        style=\"border:none\" />\n",
              "     <output id=\"result-7f257f67-9bf7-4ab0-ab82-10f08ddb9e81\">\n",
              "      Upload widget is only available when the cell has been executed in the\n",
              "      current browser session. Please rerun this cell to enable.\n",
              "      </output>\n",
              "      <script src=\"/nbextensions/google.colab/files.js\"></script> "
            ],
            "text/plain": [
              "<IPython.core.display.HTML object>"
            ]
          },
          "metadata": {
            "tags": []
          }
        },
        {
          "output_type": "stream",
          "text": [
            "Saving indonesian-names.csv to indonesian-names (1).csv\n",
            "User uploaded file \"indonesian-names.csv\" with length 30462 bytes\n"
          ],
          "name": "stdout"
        }
      ]
    },
    {
      "cell_type": "code",
      "metadata": {
        "colab": {
          "base_uri": "https://localhost:8080/",
          "height": 424
        },
        "id": "03iYzVhxt4v5",
        "outputId": "34a31ea6-c783-4d77-9867-07fdc3c63bf3"
      },
      "source": [
        "import io\n",
        "df=pd.read_csv(io.StringIO(uploaded['indonesian-names.csv'].decode('utf-8')),sep=',')\n",
        "df"
      ],
      "execution_count": null,
      "outputs": [
        {
          "output_type": "execute_result",
          "data": {
            "text/html": [
              "<div>\n",
              "<style scoped>\n",
              "    .dataframe tbody tr th:only-of-type {\n",
              "        vertical-align: middle;\n",
              "    }\n",
              "\n",
              "    .dataframe tbody tr th {\n",
              "        vertical-align: top;\n",
              "    }\n",
              "\n",
              "    .dataframe thead th {\n",
              "        text-align: right;\n",
              "    }\n",
              "</style>\n",
              "<table border=\"1\" class=\"dataframe\">\n",
              "  <thead>\n",
              "    <tr style=\"text-align: right;\">\n",
              "      <th></th>\n",
              "      <th>name</th>\n",
              "      <th>gender</th>\n",
              "    </tr>\n",
              "  </thead>\n",
              "  <tbody>\n",
              "    <tr>\n",
              "      <th>0</th>\n",
              "      <td>hafizhan shidqi</td>\n",
              "      <td>m</td>\n",
              "    </tr>\n",
              "    <tr>\n",
              "      <th>1</th>\n",
              "      <td>gandhi wibowo</td>\n",
              "      <td>m</td>\n",
              "    </tr>\n",
              "    <tr>\n",
              "      <th>2</th>\n",
              "      <td>aldio mahendra purwandrarto</td>\n",
              "      <td>m</td>\n",
              "    </tr>\n",
              "    <tr>\n",
              "      <th>3</th>\n",
              "      <td>benny putra</td>\n",
              "      <td>m</td>\n",
              "    </tr>\n",
              "    <tr>\n",
              "      <th>4</th>\n",
              "      <td>vicky vernando dasta</td>\n",
              "      <td>m</td>\n",
              "    </tr>\n",
              "    <tr>\n",
              "      <th>...</th>\n",
              "      <td>...</td>\n",
              "      <td>...</td>\n",
              "    </tr>\n",
              "    <tr>\n",
              "      <th>1955</th>\n",
              "      <td>hadimah</td>\n",
              "      <td>f</td>\n",
              "    </tr>\n",
              "    <tr>\n",
              "      <th>1956</th>\n",
              "      <td>aprillia rahma wati</td>\n",
              "      <td>f</td>\n",
              "    </tr>\n",
              "    <tr>\n",
              "      <th>1957</th>\n",
              "      <td>muhamad khoirunisa. m</td>\n",
              "      <td>m</td>\n",
              "    </tr>\n",
              "    <tr>\n",
              "      <th>1958</th>\n",
              "      <td>sukandi</td>\n",
              "      <td>m</td>\n",
              "    </tr>\n",
              "    <tr>\n",
              "      <th>1959</th>\n",
              "      <td>eem</td>\n",
              "      <td>f</td>\n",
              "    </tr>\n",
              "  </tbody>\n",
              "</table>\n",
              "<p>1960 rows × 2 columns</p>\n",
              "</div>"
            ],
            "text/plain": [
              "                             name gender\n",
              "0                 hafizhan shidqi      m\n",
              "1                   gandhi wibowo      m\n",
              "2     aldio mahendra purwandrarto      m\n",
              "3                     benny putra      m\n",
              "4            vicky vernando dasta      m\n",
              "...                           ...    ...\n",
              "1955                      hadimah      f\n",
              "1956          aprillia rahma wati      f\n",
              "1957        muhamad khoirunisa. m      m\n",
              "1958                      sukandi      m\n",
              "1959                          eem      f\n",
              "\n",
              "[1960 rows x 2 columns]"
            ]
          },
          "metadata": {
            "tags": []
          },
          "execution_count": 72
        }
      ]
    },
    {
      "cell_type": "code",
      "metadata": {
        "id": "HD8XIa22uVJj"
      },
      "source": [
        "df.gender[df.gender == 'm'] = 0\n",
        "df.gender[df.gender == 'f'] = 1"
      ],
      "execution_count": null,
      "outputs": []
    },
    {
      "cell_type": "code",
      "metadata": {
        "id": "130p0uFsudWN"
      },
      "source": [
        "from sklearn.model_selection import train_test_split\n",
        "kalimat = df['name'].values\n",
        "y = df['gender'].values\n",
        "kalimat_latih, kalimat_test, y_latih, y_test = train_test_split(kalimat, y, test_size=0.2)"
      ],
      "execution_count": null,
      "outputs": []
    },
    {
      "cell_type": "code",
      "metadata": {
        "id": "zENKNaOUvV79"
      },
      "source": [
        "from tensorflow.keras.preprocessing.text import Tokenizer\n",
        "from tensorflow.keras.preprocessing.sequence import pad_sequences\n",
        "     \n",
        "tokenizer = Tokenizer(num_words=250, oov_token='x')\n",
        "tokenizer.fit_on_texts(kalimat_latih) \n",
        "tokenizer.fit_on_texts(kalimat_test)\n",
        "     \n",
        "sekuens_latih = tokenizer.texts_to_sequences(kalimat_latih)\n",
        "sekuens_test = tokenizer.texts_to_sequences(kalimat_test)\n",
        "     \n",
        "padded_latih = pad_sequences(sekuens_latih) \n",
        "padded_test = pad_sequences(sekuens_test)"
      ],
      "execution_count": null,
      "outputs": []
    },
    {
      "cell_type": "code",
      "metadata": {
        "id": "avv1TBbswe72"
      },
      "source": [
        "import tensorflow as tf\n",
        "model = tf.keras.Sequential([\n",
        "                             tf.keras.layers.Embedding(input_dim=250, output_dim=16),\n",
        "                             tf.keras.layers.LSTM(64),\n",
        "                             tf.keras.layers.Dense(128, activation='relu'),\n",
        "                             tf.keras.layers.Dense(64, activation='relu'),\n",
        "                             tf.keras.layers.Dense(1, activation='sigmoid') #jumlah y kategori\n",
        "                             ])\n",
        "model.compile(loss='binary_crossentropy',optimizer='adam',metrics=['accuracy'])"
      ],
      "execution_count": null,
      "outputs": []
    },
    {
      "cell_type": "code",
      "metadata": {
        "id": "SitQ-BjkwMQt"
      },
      "source": [
        "class myCallback(tf.keras.callbacks.Callback):\n",
        "  def on_epoch_end(self, epoch, logs={}):\n",
        "    if(logs.get('accuracy')>0.85):\n",
        "      print(\"\\nAkurasi telah mencapai >85%!\")\n",
        "      self.model.stop_training = True\n",
        "callbacks = myCallback()"
      ],
      "execution_count": null,
      "outputs": []
    },
    {
      "cell_type": "code",
      "metadata": {
        "id": "3DFKGoxl48Fu"
      },
      "source": [
        "import numpy as np"
      ],
      "execution_count": null,
      "outputs": []
    },
    {
      "cell_type": "code",
      "metadata": {
        "id": "D1LaVtAv4xfI"
      },
      "source": [
        "padded_latih=np.asarray(padded_latih).astype(np.int)\n",
        "y_latih=np.asarray(y_latih).astype(np.int)\n",
        "padded_test=np.asarray(padded_test).astype(np.int)\n",
        "y_test=np.asarray(y_test).astype(np.int)"
      ],
      "execution_count": null,
      "outputs": []
    },
    {
      "cell_type": "code",
      "metadata": {
        "colab": {
          "base_uri": "https://localhost:8080/"
        },
        "id": "QYhxnxToxot9",
        "outputId": "c831823c-dafb-46af-f532-20cc55143d43"
      },
      "source": [
        "num_epochs = 50\n",
        "history = model.fit(padded_latih, y_latih, epochs=num_epochs,validation_data=(padded_test, y_test), verbose=2, callbacks=[callbacks])"
      ],
      "execution_count": null,
      "outputs": [
        {
          "output_type": "stream",
          "text": [
            "Epoch 1/50\n",
            "49/49 - 0s - loss: 0.3547 - accuracy: 0.7653 - val_loss: 0.5484 - val_accuracy: 0.7500\n",
            "Epoch 2/50\n",
            "49/49 - 0s - loss: 0.3536 - accuracy: 0.7730 - val_loss: 0.5640 - val_accuracy: 0.7474\n",
            "Epoch 3/50\n",
            "49/49 - 0s - loss: 0.3529 - accuracy: 0.7736 - val_loss: 0.5710 - val_accuracy: 0.7449\n",
            "Epoch 4/50\n",
            "49/49 - 0s - loss: 0.3526 - accuracy: 0.7736 - val_loss: 0.5827 - val_accuracy: 0.7449\n",
            "Epoch 5/50\n",
            "49/49 - 0s - loss: 0.3532 - accuracy: 0.7736 - val_loss: 0.5853 - val_accuracy: 0.7449\n",
            "Epoch 6/50\n",
            "49/49 - 0s - loss: 0.3535 - accuracy: 0.7730 - val_loss: 0.5832 - val_accuracy: 0.7449\n",
            "Epoch 7/50\n",
            "49/49 - 0s - loss: 0.3533 - accuracy: 0.7742 - val_loss: 0.5813 - val_accuracy: 0.7474\n",
            "Epoch 8/50\n",
            "49/49 - 0s - loss: 0.3530 - accuracy: 0.7730 - val_loss: 0.6439 - val_accuracy: 0.7474\n",
            "Epoch 9/50\n",
            "49/49 - 0s - loss: 0.3555 - accuracy: 0.7736 - val_loss: 0.5204 - val_accuracy: 0.7398\n",
            "Epoch 10/50\n",
            "49/49 - 0s - loss: 0.3537 - accuracy: 0.7736 - val_loss: 0.5762 - val_accuracy: 0.7500\n",
            "Epoch 11/50\n",
            "49/49 - 0s - loss: 0.3528 - accuracy: 0.7730 - val_loss: 0.5847 - val_accuracy: 0.7500\n",
            "Epoch 12/50\n",
            "49/49 - 0s - loss: 0.3527 - accuracy: 0.7730 - val_loss: 0.5880 - val_accuracy: 0.7449\n",
            "Epoch 13/50\n",
            "49/49 - 0s - loss: 0.3525 - accuracy: 0.7736 - val_loss: 0.5916 - val_accuracy: 0.7474\n",
            "Epoch 14/50\n",
            "49/49 - 0s - loss: 0.3526 - accuracy: 0.7736 - val_loss: 0.5941 - val_accuracy: 0.7474\n",
            "Epoch 15/50\n",
            "49/49 - 0s - loss: 0.3526 - accuracy: 0.7749 - val_loss: 0.6111 - val_accuracy: 0.7449\n",
            "Epoch 16/50\n",
            "49/49 - 0s - loss: 0.3540 - accuracy: 0.7672 - val_loss: 0.5838 - val_accuracy: 0.7449\n",
            "Epoch 17/50\n",
            "49/49 - 0s - loss: 0.3566 - accuracy: 0.7742 - val_loss: 0.7607 - val_accuracy: 0.7296\n",
            "Epoch 18/50\n",
            "49/49 - 0s - loss: 0.3760 - accuracy: 0.7551 - val_loss: 0.5466 - val_accuracy: 0.7423\n",
            "Epoch 19/50\n",
            "49/49 - 0s - loss: 0.4210 - accuracy: 0.7602 - val_loss: 0.4563 - val_accuracy: 0.7372\n",
            "Epoch 20/50\n",
            "49/49 - 0s - loss: 0.3565 - accuracy: 0.7730 - val_loss: 0.4906 - val_accuracy: 0.7347\n",
            "Epoch 21/50\n",
            "49/49 - 0s - loss: 0.3543 - accuracy: 0.7666 - val_loss: 0.4914 - val_accuracy: 0.7398\n",
            "Epoch 22/50\n",
            "49/49 - 0s - loss: 0.3537 - accuracy: 0.7742 - val_loss: 0.4898 - val_accuracy: 0.7398\n",
            "Epoch 23/50\n",
            "49/49 - 0s - loss: 0.3536 - accuracy: 0.7736 - val_loss: 0.4833 - val_accuracy: 0.7423\n",
            "Epoch 24/50\n",
            "49/49 - 0s - loss: 0.3533 - accuracy: 0.7742 - val_loss: 0.4843 - val_accuracy: 0.7423\n",
            "Epoch 25/50\n",
            "49/49 - 0s - loss: 0.3527 - accuracy: 0.7736 - val_loss: 0.4827 - val_accuracy: 0.7449\n",
            "Epoch 26/50\n",
            "49/49 - 0s - loss: 0.3527 - accuracy: 0.7730 - val_loss: 0.4855 - val_accuracy: 0.7449\n",
            "Epoch 27/50\n",
            "49/49 - 0s - loss: 0.3528 - accuracy: 0.7742 - val_loss: 0.4868 - val_accuracy: 0.7449\n",
            "Epoch 28/50\n",
            "49/49 - 0s - loss: 0.3532 - accuracy: 0.7742 - val_loss: 0.4849 - val_accuracy: 0.7474\n",
            "Epoch 29/50\n",
            "49/49 - 0s - loss: 0.3527 - accuracy: 0.7742 - val_loss: 0.4843 - val_accuracy: 0.7474\n",
            "Epoch 30/50\n",
            "49/49 - 0s - loss: 0.3521 - accuracy: 0.7749 - val_loss: 0.4880 - val_accuracy: 0.7474\n",
            "Epoch 31/50\n",
            "49/49 - 0s - loss: 0.3527 - accuracy: 0.7749 - val_loss: 0.4846 - val_accuracy: 0.7449\n",
            "Epoch 32/50\n",
            "49/49 - 0s - loss: 0.3525 - accuracy: 0.7742 - val_loss: 0.4852 - val_accuracy: 0.7500\n",
            "Epoch 33/50\n",
            "49/49 - 0s - loss: 0.3524 - accuracy: 0.7736 - val_loss: 0.4864 - val_accuracy: 0.7449\n",
            "Epoch 34/50\n",
            "49/49 - 0s - loss: 0.3524 - accuracy: 0.7742 - val_loss: 0.4846 - val_accuracy: 0.7500\n",
            "Epoch 35/50\n",
            "49/49 - 0s - loss: 0.3518 - accuracy: 0.7749 - val_loss: 0.4848 - val_accuracy: 0.7500\n",
            "Epoch 36/50\n",
            "49/49 - 0s - loss: 0.3525 - accuracy: 0.7749 - val_loss: 0.4818 - val_accuracy: 0.7526\n",
            "Epoch 37/50\n",
            "49/49 - 0s - loss: 0.3528 - accuracy: 0.7679 - val_loss: 0.4831 - val_accuracy: 0.7500\n",
            "Epoch 38/50\n",
            "49/49 - 0s - loss: 0.3521 - accuracy: 0.7742 - val_loss: 0.4887 - val_accuracy: 0.7500\n",
            "Epoch 39/50\n",
            "49/49 - 0s - loss: 0.3524 - accuracy: 0.7749 - val_loss: 0.4844 - val_accuracy: 0.7474\n",
            "Epoch 40/50\n",
            "49/49 - 0s - loss: 0.3527 - accuracy: 0.7736 - val_loss: 0.4927 - val_accuracy: 0.7526\n",
            "Epoch 41/50\n",
            "49/49 - 0s - loss: 0.3521 - accuracy: 0.7736 - val_loss: 0.4940 - val_accuracy: 0.7449\n",
            "Epoch 42/50\n",
            "49/49 - 0s - loss: 0.3521 - accuracy: 0.7749 - val_loss: 0.4923 - val_accuracy: 0.7474\n",
            "Epoch 43/50\n",
            "49/49 - 0s - loss: 0.3522 - accuracy: 0.7736 - val_loss: 0.4942 - val_accuracy: 0.7526\n",
            "Epoch 44/50\n",
            "49/49 - 0s - loss: 0.3522 - accuracy: 0.7736 - val_loss: 0.4999 - val_accuracy: 0.7500\n",
            "Epoch 45/50\n",
            "49/49 - 0s - loss: 0.3520 - accuracy: 0.7717 - val_loss: 0.5054 - val_accuracy: 0.7474\n",
            "Epoch 46/50\n",
            "49/49 - 0s - loss: 0.3534 - accuracy: 0.7723 - val_loss: 0.4794 - val_accuracy: 0.7449\n",
            "Epoch 47/50\n",
            "49/49 - 0s - loss: 0.3575 - accuracy: 0.7723 - val_loss: 0.4696 - val_accuracy: 0.7372\n",
            "Epoch 48/50\n",
            "49/49 - 0s - loss: 0.3545 - accuracy: 0.7704 - val_loss: 0.5033 - val_accuracy: 0.7449\n",
            "Epoch 49/50\n",
            "49/49 - 0s - loss: 0.3537 - accuracy: 0.7717 - val_loss: 0.5003 - val_accuracy: 0.7474\n",
            "Epoch 50/50\n",
            "49/49 - 0s - loss: 0.3539 - accuracy: 0.7742 - val_loss: 0.4873 - val_accuracy: 0.7449\n"
          ],
          "name": "stdout"
        }
      ]
    },
    {
      "cell_type": "code",
      "metadata": {
        "colab": {
          "base_uri": "https://localhost:8080/",
          "height": 295
        },
        "id": "7veNQZarxkNW",
        "outputId": "20d702e1-6adf-468a-f38f-38719022969c"
      },
      "source": [
        "import matplotlib.pyplot as plt\n",
        "plt.plot(history.history['accuracy'])\n",
        "plt.plot(history.history['val_accuracy'])\n",
        "plt.title('Akurasi Model')\n",
        "plt.ylabel('accuracy')\n",
        "plt.xlabel('epoch')\n",
        "plt.legend(['train', 'test'], loc='upper left')\n",
        "plt.show()"
      ],
      "execution_count": null,
      "outputs": [
        {
          "output_type": "display_data",
          "data": {
            "image/png": "[encoded data removed]",
            "text/plain": [
              "<Figure size 432x288 with 1 Axes>"
            ]
          },
          "metadata": {
            "tags": [],
            "needs_background": "light"
          }
        }
      ]
    },
    {
      "cell_type": "code",
      "metadata": {
        "colab": {
          "base_uri": "https://localhost:8080/",
          "height": 295
        },
        "id": "Dx4o-9AE8D_F",
        "outputId": "32a70da7-a313-4e50-f499-a69ef150f46e"
      },
      "source": [
        "plt.plot(history.history['loss'])\n",
        "plt.plot(history.history['val_loss'])\n",
        "plt.title('Loss Model')\n",
        "plt.ylabel('loss')\n",
        "plt.xlabel('epoch')\n",
        "plt.legend(['train', 'test'], loc='upper left')\n",
        "plt.show()"
      ],
      "execution_count": null,
      "outputs": [
        {
          "output_type": "display_data",
          "data": {
            "image/png": "[encoded data removed]",
            "text/plain": [
              "<Figure size 432x288 with 1 Axes>"
            ]
          },
          "metadata": {
            "tags": [],
            "needs_background": "light"
          }
        }
      ]
    }
  ]
}